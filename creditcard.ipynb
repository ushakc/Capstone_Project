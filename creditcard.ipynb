{
 "cells": [
  {
   "cell_type": "code",
   "execution_count": null,
   "id": "0d6a2995",
   "metadata": {},
   "outputs": [],
   "source": [
    "import sys\n",
    "import os\n",
    "import findspark\n",
    "findspark.init()\n",
    "os.environ['PYSPARK_PYTHON'] = sys.executable\n",
    "os.environ['PYSPARK_DRIVER_PYTHON'] = sys.executable"
   ]
  },
  {
   "cell_type": "code",
   "execution_count": null,
   "id": "c6128cf4",
   "metadata": {},
   "outputs": [],
   "source": [
    "import spark\n",
    "import pyspark"
   ]
  },
  {
   "cell_type": "code",
   "execution_count": null,
   "id": "3e2320b0",
   "metadata": {},
   "outputs": [],
   "source": [
    "from pyspark import SparkContext\n",
    "from pyspark.sql.session import SparkSession\n",
    "from pyspark.sql.types import *\n",
    "from pyspark.sql import functions as F\n",
    "from pyspark.sql.functions import *"
   ]
  },
  {
   "cell_type": "code",
   "execution_count": null,
   "id": "e9c5b020",
   "metadata": {},
   "outputs": [],
   "source": [
    "spark = SparkSession.builder.appName('capstone_project').getOrCreate()"
   ]
  },
  {
   "cell_type": "code",
   "execution_count": null,
   "id": "a91ac8c7",
   "metadata": {},
   "outputs": [],
   "source": [
    "user = os.getenv(\"user\", default=None)\n",
    "password = os.getenv(\"password\", default=None)"
   ]
  },
  {
   "cell_type": "code",
   "execution_count": null,
   "id": "80c6e7aa",
   "metadata": {},
   "outputs": [],
   "source": [
    "# creating creditcard datafram from the json file\n",
    "cdw_sapp_credit = os.path.join(\"files\", \"cdw_sapp_credit.json\")\n",
    "df_creditcard = spark.read.json(cdw_sapp_credit)"
   ]
  },
  {
   "cell_type": "code",
   "execution_count": null,
   "id": "d81acce2",
   "metadata": {},
   "outputs": [],
   "source": [
    "type(df_creditcard)\n",
    "df_creditcard.show()"
   ]
  },
  {
   "cell_type": "code",
   "execution_count": null,
   "id": "87eb30eb",
   "metadata": {},
   "outputs": [],
   "source": [
    "df_creditcard.printSchema()"
   ]
  },
  {
   "cell_type": "code",
   "execution_count": null,
   "id": "b1a82e57",
   "metadata": {},
   "outputs": [],
   "source": [
    "df_creditcard.createOrReplaceTempView('credit_data')"
   ]
  },
  {
   "cell_type": "code",
   "execution_count": null,
   "id": "95d652bb",
   "metadata": {
    "scrolled": true
   },
   "outputs": [],
   "source": [
    "creditcard_df = spark.sql('SELECT CREDIT_CARD_NO CUST_CC_NO,\\\n",
    "         CONCAT(YEAR, LPAD(Month, 2, 0), \\\n",
    "         LPAD(Day, 2, 0)) TIMEID, \\\n",
    "         CUST_SSN,\\\n",
    "         BRANCH_CODE,\\\n",
    "         TRANSACTION_TYPE,\\\n",
    "         TRANSACTION_VALUE,\\\n",
    "         TRANSACTION_ID \\\n",
    " FROM credit_data')\n",
    "creditcard_df.show()\n"
   ]
  },
  {
   "cell_type": "code",
   "execution_count": null,
   "id": "3ccf61e0",
   "metadata": {},
   "outputs": [],
   "source": [
    "creditcard_df.createOrReplaceTempView('credit_df')"
   ]
  },
  {
   "cell_type": "code",
   "execution_count": null,
   "id": "f2d86de3",
   "metadata": {},
   "outputs": [],
   "source": [
    "creditcard_df.printSchema()"
   ]
  },
  {
   "cell_type": "code",
   "execution_count": null,
   "id": "e312bca9",
   "metadata": {},
   "outputs": [],
   "source": [
    "creditcard_df = spark.sql(\"SELECT CUST_CC_NO, TIMEID, CAST(CUST_SSN AS INT) CUST_SSN, \\\n",
    "CAST(BRANCH_CODE AS INT) BRANCH_CODE, TRANSACTION_TYPE, CAST(TRANSACTION_VALUE AS DOUBLE) TRANSACTION_VALUE, \\\n",
    "CAST(TRANSACTION_ID AS INT) TRANSACTION_ID FROM credit_df\")"
   ]
  },
  {
   "cell_type": "code",
   "execution_count": null,
   "id": "9b9d2d7a",
   "metadata": {},
   "outputs": [],
   "source": [
    "creditcard_df.printSchema()"
   ]
  },
  {
   "cell_type": "code",
   "execution_count": null,
   "id": "527c48b7",
   "metadata": {},
   "outputs": [],
   "source": [
    "creditcard_df.show()"
   ]
  },
  {
   "cell_type": "code",
   "execution_count": null,
   "id": "0f441334",
   "metadata": {},
   "outputs": [],
   "source": [
    "# ' DROP TABLE `creditcard_capstone`.`cdw_sapp_credit_card`;'"
   ]
  },
  {
   "cell_type": "code",
   "execution_count": null,
   "id": "525c6cf2",
   "metadata": {},
   "outputs": [],
   "source": [
    "creditcard_df.write.format(\"jdbc\") \\\n",
    ".mode(\"append\") \\\n",
    ".option(\"url\", \"jdbc:mysql://localhost:3306/creditcard_capstone\") \\\n",
    ".option(\"dbtable\", \"creditcard_capstone.cdw_sapp_credit_card\") \\\n",
    ".option(\"user\", user) \\\n",
    ".option(\"password\", password) \\\n",
    ".save()"
   ]
  },
  {
   "cell_type": "code",
   "execution_count": null,
   "id": "b35d9cd4",
   "metadata": {},
   "outputs": [],
   "source": [
    "spark.stop()"
   ]
  },
  {
   "cell_type": "code",
   "execution_count": null,
   "id": "b3f2aeaa",
   "metadata": {},
   "outputs": [],
   "source": [
    "# ALTER TABLE `creditcard_capstone`.`cdw_sapp_credit_card` \n",
    "# CHANGE COLUMN `CUST_CC_NO` `CUST_CC_NO` VARCHAR(45) NULL DEFAULT NULL ,\n",
    "# CHANGE COLUMN `TIMEID` `TIMEID` VARCHAR(45) NULL DEFAULT NULL ,\n",
    "# CHANGE COLUMN `TRANSACTION_TYPE` `TRANSACTION_TYPE` VARCHAR(45) NULL DEFAULT NULL ;"
   ]
  },
  {
   "cell_type": "code",
   "execution_count": null,
   "id": "d45adc38",
   "metadata": {},
   "outputs": [],
   "source": [
    "# ALTER TABLE `creditcard_capstone`.`cdw_sapp_credit_card` \n",
    "# CHANGE COLUMN `CUST_CC_NO` `CUST_CC_NO` VARCHAR(45) NOT NULL ,\n",
    "# ADD PRIMARY KEY (`CUST_CC_NO`),\n",
    "# ADD INDEX `BRANCH_CODE_idx` (`BRANCH_CODE` ASC) VISIBLE,\n",
    "# ADD INDEX `CUST_SSN_idx` (`CUST_SSN` ASC) VISIBLE;\n",
    "# ;\n",
    "# ALTER TABLE `creditcard_capstone`.`cdw_sapp_credit_card` \n",
    "# ADD CONSTRAINT `BRANCH_CODE`\n",
    "#   FOREIGN KEY (`BRANCH_CODE`)\n",
    "#   REFERENCES `creditcard_capstone`.`cdw_sapp_branch` (`BRANCH_CODE`)\n",
    "#   ON DELETE NO ACTION\n",
    "#   ON UPDATE NO ACTION,\n",
    "# ADD CONSTRAINT `CUST_SSN`\n",
    "#   FOREIGN KEY (`CUST_SSN`)\n",
    "#   REFERENCES `creditcard_capstone`.`cdw_sapp_customer` (`SSN`)\n",
    "#   ON DELETE NO ACTION\n",
    "#   ON UPDATE NO ACTION;"
   ]
  }
 ],
 "metadata": {
  "kernelspec": {
   "display_name": "Python 3 (ipykernel)",
   "language": "python",
   "name": "python3"
  },
  "language_info": {
   "codemirror_mode": {
    "name": "ipython",
    "version": 3
   },
   "file_extension": ".py",
   "mimetype": "text/x-python",
   "name": "python",
   "nbconvert_exporter": "python",
   "pygments_lexer": "ipython3",
   "version": "3.9.12"
  },
  "vscode": {
   "interpreter": {
    "hash": "e9ebf9ef809bdc88143f43dd64c0ac139993320cba1081b17292f6ea1461afe7"
   }
  }
 },
 "nbformat": 4,
 "nbformat_minor": 5
}
