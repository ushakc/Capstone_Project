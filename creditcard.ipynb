{
 "cells": [
  {
   "cell_type": "code",
   "execution_count": 1,
   "id": "0d6a2995",
   "metadata": {},
   "outputs": [],
   "source": [
    "import sys\n",
    "import os\n",
    "import findspark\n",
    "findspark.init()\n",
    "\n",
    "os.environ['PYSPARK_PYTHON'] = sys.executable\n",
    "os.environ['PYSPARK_DRIVER_PYTHON'] = sys.executable\n",
    "\n",
    "\n"
   ]
  },
  {
   "cell_type": "code",
   "execution_count": 2,
   "id": "c6128cf4",
   "metadata": {},
   "outputs": [],
   "source": [
    "import spark\n",
    "import pyspark\n"
   ]
  },
  {
   "cell_type": "code",
   "execution_count": 3,
   "id": "3e2320b0",
   "metadata": {},
   "outputs": [],
   "source": [
    "from pyspark import SparkContext\n",
    "from pyspark.sql.session import SparkSession\n",
    "from pyspark.sql.types import *\n",
    "from pyspark.sql import functions as F\n",
    "from pyspark.sql.functions import *\n",
    "\n"
   ]
  },
  {
   "cell_type": "code",
   "execution_count": 4,
   "id": "e9c5b020",
   "metadata": {},
   "outputs": [],
   "source": [
    "spark = SparkSession.builder.appName('capstone_project').getOrCreate()\n"
   ]
  },
  {
   "cell_type": "code",
   "execution_count": 5,
   "id": "d864ad37",
   "metadata": {},
   "outputs": [],
   "source": [
    "#read the database username and password from secret.txt\n",
    "secrets_file = os.path.join(\"files\", \"secret.txt\")\n",
    "with open(secrets_file, \"r\") as f:\t\t\n",
    "    lines = f.readlines()\n",
    "for line in lines:\n",
    "    words = line.split(\"=\")\n",
    "    if (words[0] == \"user\"):\n",
    "        user = words[1].strip()\n",
    "    elif (words[0] == \"password\"):\n",
    "        password = words[1].strip()\n",
    "#print(user, password)"
   ]
  },
  {
   "cell_type": "code",
   "execution_count": null,
   "id": "a91ac8c7",
   "metadata": {},
   "outputs": [],
   "source": []
  },
  {
   "cell_type": "code",
   "execution_count": 6,
   "id": "80c6e7aa",
   "metadata": {},
   "outputs": [],
   "source": [
    "# creating creditcard datafram from the json file\n",
    "cdw_sapp_credit = os.path.join(\"files\", \"cdw_sapp_credit.json\")\n",
    "\n",
    "df_creditcard = spark.read.json(cdw_sapp_credit)\n",
    "\n"
   ]
  },
  {
   "cell_type": "code",
   "execution_count": 7,
   "id": "d81acce2",
   "metadata": {},
   "outputs": [
    {
     "name": "stdout",
     "output_type": "stream",
     "text": [
      "+-----------+----------------+---------+---+-----+--------------+----------------+-----------------+----+\n",
      "|BRANCH_CODE|  CREDIT_CARD_NO| CUST_SSN|DAY|MONTH|TRANSACTION_ID|TRANSACTION_TYPE|TRANSACTION_VALUE|YEAR|\n",
      "+-----------+----------------+---------+---+-----+--------------+----------------+-----------------+----+\n",
      "|        114|4210653349028689|123459988| 14|    2|             1|       Education|             78.9|2018|\n",
      "|         35|4210653349028689|123459988| 20|    3|             2|   Entertainment|            14.24|2018|\n",
      "|        160|4210653349028689|123459988|  8|    7|             3|         Grocery|             56.7|2018|\n",
      "|        114|4210653349028689|123459988| 19|    4|             4|   Entertainment|            59.73|2018|\n",
      "|         93|4210653349028689|123459988| 10|   10|             5|             Gas|             3.59|2018|\n",
      "|        164|4210653349028689|123459988| 28|    5|             6|       Education|             6.89|2018|\n",
      "|        119|4210653349028689|123459988| 19|    5|             7|   Entertainment|            43.39|2018|\n",
      "|         23|4210653349028689|123459988|  8|    8|             8|             Gas|            95.39|2018|\n",
      "|        166|4210653349028689|123459988| 18|    3|             9|   Entertainment|            93.26|2018|\n",
      "|         83|4210653349028689|123459988|  3|    9|            10|           Bills|           100.38|2018|\n",
      "|         52|4210653349028689|123459988| 21|    8|            11|             Gas|            98.75|2018|\n",
      "|         17|4210653349028689|123459988| 24|   12|            12|             Gas|            42.71|2018|\n",
      "|         80|4210653349028689|123459988|  3|    4|            13|         Grocery|            40.24|2018|\n",
      "|         50|4210653349028689|123459988| 15|    4|            14|           Bills|            17.81|2018|\n",
      "|        123|4210653349028689|123459988| 17|    5|            15|           Bills|             29.0|2018|\n",
      "|          9|4210653349028689|123459988|  6|    7|            16|            Test|            70.63|2018|\n",
      "|          3|4210653349028689|123459988| 28|    9|            17|            Test|            27.04|2018|\n",
      "|        135|4210653349028689|123459988|  4|    7|            18|   Entertainment|            88.75|2018|\n",
      "|        103|4210653349028689|123459988| 24|    4|            19|            Test|            77.02|2018|\n",
      "|         78|4210653349028689|123459988|  8|   10|            20|           Bills|            34.34|2018|\n",
      "+-----------+----------------+---------+---+-----+--------------+----------------+-----------------+----+\n",
      "only showing top 20 rows\n",
      "\n"
     ]
    }
   ],
   "source": [
    "\n",
    "type(df_creditcard)\n",
    "df_creditcard.show()"
   ]
  },
  {
   "cell_type": "code",
   "execution_count": 8,
   "id": "87eb30eb",
   "metadata": {},
   "outputs": [
    {
     "name": "stdout",
     "output_type": "stream",
     "text": [
      "root\n",
      " |-- BRANCH_CODE: long (nullable = true)\n",
      " |-- CREDIT_CARD_NO: string (nullable = true)\n",
      " |-- CUST_SSN: long (nullable = true)\n",
      " |-- DAY: long (nullable = true)\n",
      " |-- MONTH: long (nullable = true)\n",
      " |-- TRANSACTION_ID: long (nullable = true)\n",
      " |-- TRANSACTION_TYPE: string (nullable = true)\n",
      " |-- TRANSACTION_VALUE: double (nullable = true)\n",
      " |-- YEAR: long (nullable = true)\n",
      "\n"
     ]
    }
   ],
   "source": [
    "df_creditcard.printSchema()"
   ]
  },
  {
   "cell_type": "code",
   "execution_count": 9,
   "id": "b1a82e57",
   "metadata": {},
   "outputs": [],
   "source": [
    "    \n",
    "df_creditcard.createOrReplaceTempView('credit_data')"
   ]
  },
  {
   "cell_type": "code",
   "execution_count": 10,
   "id": "95d652bb",
   "metadata": {
    "scrolled": true
   },
   "outputs": [
    {
     "name": "stdout",
     "output_type": "stream",
     "text": [
      "+----------------+--------+---------+-----------+----------------+-----------------+--------------+\n",
      "|      CUST_CC_NO|  TIMEID| CUST_SSN|BRANCH_CODE|TRANSACTION_TYPE|TRANSACTION_VALUE|TRANSACTION_ID|\n",
      "+----------------+--------+---------+-----------+----------------+-----------------+--------------+\n",
      "|4210653349028689|20180214|123459988|        114|       Education|             78.9|             1|\n",
      "|4210653349028689|20180320|123459988|         35|   Entertainment|            14.24|             2|\n",
      "|4210653349028689|20180708|123459988|        160|         Grocery|             56.7|             3|\n",
      "|4210653349028689|20180419|123459988|        114|   Entertainment|            59.73|             4|\n",
      "|4210653349028689|20181010|123459988|         93|             Gas|             3.59|             5|\n",
      "|4210653349028689|20180528|123459988|        164|       Education|             6.89|             6|\n",
      "|4210653349028689|20180519|123459988|        119|   Entertainment|            43.39|             7|\n",
      "|4210653349028689|20180808|123459988|         23|             Gas|            95.39|             8|\n",
      "|4210653349028689|20180318|123459988|        166|   Entertainment|            93.26|             9|\n",
      "|4210653349028689|20180903|123459988|         83|           Bills|           100.38|            10|\n",
      "|4210653349028689|20180821|123459988|         52|             Gas|            98.75|            11|\n",
      "|4210653349028689|20181224|123459988|         17|             Gas|            42.71|            12|\n",
      "|4210653349028689|20180403|123459988|         80|         Grocery|            40.24|            13|\n",
      "|4210653349028689|20180415|123459988|         50|           Bills|            17.81|            14|\n",
      "|4210653349028689|20180517|123459988|        123|           Bills|             29.0|            15|\n",
      "|4210653349028689|20180706|123459988|          9|            Test|            70.63|            16|\n",
      "|4210653349028689|20180928|123459988|          3|            Test|            27.04|            17|\n",
      "|4210653349028689|20180704|123459988|        135|   Entertainment|            88.75|            18|\n",
      "|4210653349028689|20180424|123459988|        103|            Test|            77.02|            19|\n",
      "|4210653349028689|20181008|123459988|         78|           Bills|            34.34|            20|\n",
      "+----------------+--------+---------+-----------+----------------+-----------------+--------------+\n",
      "only showing top 20 rows\n",
      "\n"
     ]
    }
   ],
   "source": [
    "creditcard_df = spark.sql('SELECT CREDIT_CARD_NO CUST_CC_NO,\\\n",
    "         CONCAT(YEAR, LPAD(Month, 2, 0), \\\n",
    "         LPAD(Day, 2, 0)) TIMEID, \\\n",
    "         CUST_SSN,\\\n",
    "         BRANCH_CODE,\\\n",
    "         TRANSACTION_TYPE,\\\n",
    "         TRANSACTION_VALUE,\\\n",
    "         TRANSACTION_ID \\\n",
    " FROM credit_data')\n",
    "\n",
    "# credit_tr = spark.sql('SELECT CREDIT_CARD_NO CUST_CC_NO,\\\n",
    "#          CONCAT(YEAR, LPAD(Month, 2, 0), \\\n",
    "#          LPAD(Day, 2, 0)) TIMEID, \\\n",
    "#          CUST_SSN,\\\n",
    "#          BRANCH_CODE,\\\n",
    "#          TRANSACTION_TYPE,\\\n",
    "#          TRANSACTION_VALUE,\\\n",
    "#          TRANSACTION_ID \\\n",
    "#  FROM cdw_sapp_creditcard')\n",
    "\n",
    "creditcard_df.show()\n"
   ]
  },
  {
   "cell_type": "code",
   "execution_count": 11,
   "id": "3ccf61e0",
   "metadata": {},
   "outputs": [],
   "source": [
    "creditcard_df.createOrReplaceTempView('credit_df')"
   ]
  },
  {
   "cell_type": "code",
   "execution_count": 12,
   "id": "f2d86de3",
   "metadata": {},
   "outputs": [
    {
     "name": "stdout",
     "output_type": "stream",
     "text": [
      "root\n",
      " |-- CUST_CC_NO: string (nullable = true)\n",
      " |-- TIMEID: string (nullable = true)\n",
      " |-- CUST_SSN: long (nullable = true)\n",
      " |-- BRANCH_CODE: long (nullable = true)\n",
      " |-- TRANSACTION_TYPE: string (nullable = true)\n",
      " |-- TRANSACTION_VALUE: double (nullable = true)\n",
      " |-- TRANSACTION_ID: long (nullable = true)\n",
      "\n"
     ]
    }
   ],
   "source": [
    "creditcard_df.printSchema()"
   ]
  },
  {
   "cell_type": "code",
   "execution_count": 13,
   "id": "e312bca9",
   "metadata": {},
   "outputs": [],
   "source": [
    "creditcard_df = spark.sql(\"SELECT CUST_CC_NO, TIMEID, CAST(CUST_SSN AS INT) CUST_SSN, \\\n",
    "CAST(BRANCH_CODE AS INT) BRANCH_CODE, TRANSACTION_TYPE, CAST(TRANSACTION_VALUE AS DOUBLE) TRANSACTION_VALUE, \\\n",
    "CAST(TRANSACTION_ID AS INT) TRANSACTION_ID FROM credit_df\")"
   ]
  },
  {
   "cell_type": "code",
   "execution_count": 14,
   "id": "9b9d2d7a",
   "metadata": {},
   "outputs": [
    {
     "name": "stdout",
     "output_type": "stream",
     "text": [
      "root\n",
      " |-- CUST_CC_NO: string (nullable = true)\n",
      " |-- TIMEID: string (nullable = true)\n",
      " |-- CUST_SSN: integer (nullable = true)\n",
      " |-- BRANCH_CODE: integer (nullable = true)\n",
      " |-- TRANSACTION_TYPE: string (nullable = true)\n",
      " |-- TRANSACTION_VALUE: double (nullable = true)\n",
      " |-- TRANSACTION_ID: integer (nullable = true)\n",
      "\n"
     ]
    }
   ],
   "source": [
    "creditcard_df.printSchema()"
   ]
  },
  {
   "cell_type": "code",
   "execution_count": null,
   "id": "03569f0b",
   "metadata": {},
   "outputs": [],
   "source": []
  },
  {
   "cell_type": "code",
   "execution_count": 15,
   "id": "527c48b7",
   "metadata": {},
   "outputs": [
    {
     "name": "stdout",
     "output_type": "stream",
     "text": [
      "+----------------+--------+---------+-----------+----------------+-----------------+--------------+\n",
      "|      CUST_CC_NO|  TIMEID| CUST_SSN|BRANCH_CODE|TRANSACTION_TYPE|TRANSACTION_VALUE|TRANSACTION_ID|\n",
      "+----------------+--------+---------+-----------+----------------+-----------------+--------------+\n",
      "|4210653349028689|20180214|123459988|        114|       Education|             78.9|             1|\n",
      "|4210653349028689|20180320|123459988|         35|   Entertainment|            14.24|             2|\n",
      "|4210653349028689|20180708|123459988|        160|         Grocery|             56.7|             3|\n",
      "|4210653349028689|20180419|123459988|        114|   Entertainment|            59.73|             4|\n",
      "|4210653349028689|20181010|123459988|         93|             Gas|             3.59|             5|\n",
      "|4210653349028689|20180528|123459988|        164|       Education|             6.89|             6|\n",
      "|4210653349028689|20180519|123459988|        119|   Entertainment|            43.39|             7|\n",
      "|4210653349028689|20180808|123459988|         23|             Gas|            95.39|             8|\n",
      "|4210653349028689|20180318|123459988|        166|   Entertainment|            93.26|             9|\n",
      "|4210653349028689|20180903|123459988|         83|           Bills|           100.38|            10|\n",
      "|4210653349028689|20180821|123459988|         52|             Gas|            98.75|            11|\n",
      "|4210653349028689|20181224|123459988|         17|             Gas|            42.71|            12|\n",
      "|4210653349028689|20180403|123459988|         80|         Grocery|            40.24|            13|\n",
      "|4210653349028689|20180415|123459988|         50|           Bills|            17.81|            14|\n",
      "|4210653349028689|20180517|123459988|        123|           Bills|             29.0|            15|\n",
      "|4210653349028689|20180706|123459988|          9|            Test|            70.63|            16|\n",
      "|4210653349028689|20180928|123459988|          3|            Test|            27.04|            17|\n",
      "|4210653349028689|20180704|123459988|        135|   Entertainment|            88.75|            18|\n",
      "|4210653349028689|20180424|123459988|        103|            Test|            77.02|            19|\n",
      "|4210653349028689|20181008|123459988|         78|           Bills|            34.34|            20|\n",
      "+----------------+--------+---------+-----------+----------------+-----------------+--------------+\n",
      "only showing top 20 rows\n",
      "\n"
     ]
    }
   ],
   "source": [
    "creditcard_df.show()"
   ]
  },
  {
   "cell_type": "code",
   "execution_count": 16,
   "id": "525c6cf2",
   "metadata": {},
   "outputs": [],
   "source": [
    "\n",
    "creditcard_df.write.format(\"jdbc\") \\\n",
    ".mode(\"append\") \\\n",
    ".option(\"url\", \"jdbc:mysql://localhost:3306/creditcard_capstone\") \\\n",
    ".option(\"dbtable\", \"creditcard_capstone.cdw_sapp_credit_card\") \\\n",
    ".option(\"user\", user) \\\n",
    ".option(\"password\", password) \\\n",
    ".save()\n"
   ]
  },
  {
   "cell_type": "code",
   "execution_count": 17,
   "id": "b35d9cd4",
   "metadata": {},
   "outputs": [],
   "source": [
    "spark.stop()"
   ]
  },
  {
   "cell_type": "code",
   "execution_count": null,
   "id": "d55d5291",
   "metadata": {},
   "outputs": [],
   "source": []
  },
  {
   "cell_type": "code",
   "execution_count": 18,
   "id": "b3f2aeaa",
   "metadata": {},
   "outputs": [],
   "source": [
    "# ALTER TABLE `creditcard_capstone`.`cdw_sapp_credit_card` \n",
    "# CHANGE COLUMN `CUST_CC_NO` `CUST_CC_NO` VARCHAR(45) NULL DEFAULT NULL ,\n",
    "# CHANGE COLUMN `TIMEID` `TIMEID` VARCHAR(45) NULL DEFAULT NULL ,\n",
    "# CHANGE COLUMN `TRANSACTION_TYPE` `TRANSACTION_TYPE` VARCHAR(45) NULL DEFAULT NULL ;\n",
    "\n"
   ]
  },
  {
   "cell_type": "code",
   "execution_count": null,
   "id": "d45adc38",
   "metadata": {},
   "outputs": [],
   "source": [
    "\n"
   ]
  },
  {
   "cell_type": "code",
   "execution_count": null,
   "id": "31095ebc",
   "metadata": {},
   "outputs": [],
   "source": []
  },
  {
   "cell_type": "code",
   "execution_count": null,
   "id": "6c63a752",
   "metadata": {},
   "outputs": [],
   "source": []
  },
  {
   "cell_type": "code",
   "execution_count": null,
   "id": "a61b4b08",
   "metadata": {},
   "outputs": [],
   "source": []
  },
  {
   "cell_type": "code",
   "execution_count": null,
   "id": "8404640f",
   "metadata": {},
   "outputs": [],
   "source": []
  },
  {
   "cell_type": "code",
   "execution_count": null,
   "id": "e2e80644",
   "metadata": {},
   "outputs": [],
   "source": []
  },
  {
   "cell_type": "code",
   "execution_count": null,
   "id": "536ff7e8",
   "metadata": {},
   "outputs": [],
   "source": []
  },
  {
   "cell_type": "code",
   "execution_count": null,
   "id": "ee2449f3",
   "metadata": {},
   "outputs": [],
   "source": []
  },
  {
   "cell_type": "code",
   "execution_count": null,
   "id": "933c242f",
   "metadata": {},
   "outputs": [],
   "source": []
  },
  {
   "cell_type": "code",
   "execution_count": null,
   "id": "c713a9eb",
   "metadata": {},
   "outputs": [],
   "source": []
  },
  {
   "cell_type": "code",
   "execution_count": null,
   "id": "201e2f5d",
   "metadata": {},
   "outputs": [],
   "source": []
  }
 ],
 "metadata": {
  "kernelspec": {
   "display_name": "Python 3 (ipykernel)",
   "language": "python",
   "name": "python3"
  },
  "language_info": {
   "codemirror_mode": {
    "name": "ipython",
    "version": 3
   },
   "file_extension": ".py",
   "mimetype": "text/x-python",
   "name": "python",
   "nbconvert_exporter": "python",
   "pygments_lexer": "ipython3",
   "version": "3.9.12"
  },
  "vscode": {
   "interpreter": {
    "hash": "e9ebf9ef809bdc88143f43dd64c0ac139993320cba1081b17292f6ea1461afe7"
   }
  }
 },
 "nbformat": 4,
 "nbformat_minor": 5
}
