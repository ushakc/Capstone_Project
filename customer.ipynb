{
 "cells": [
  {
   "cell_type": "code",
   "execution_count": 1,
   "id": "0d6a2995",
   "metadata": {},
   "outputs": [],
   "source": [
    "import sys\n",
    "import os\n",
    "import findspark\n",
    "findspark.init()\n",
    "\n",
    "os.environ['PYSPARK_PYTHON'] = sys.executable\n",
    "os.environ['PYSPARK_DRIVER_PYTHON'] = sys.executable\n",
    "\n",
    "\n"
   ]
  },
  {
   "cell_type": "code",
   "execution_count": 2,
   "id": "c6128cf4",
   "metadata": {},
   "outputs": [],
   "source": [
    "import spark\n",
    "import pyspark\n"
   ]
  },
  {
   "cell_type": "code",
   "execution_count": 3,
   "id": "3e2320b0",
   "metadata": {},
   "outputs": [],
   "source": [
    "from pyspark import SparkContext\n",
    "from pyspark.sql.session import SparkSession\n",
    "from pyspark.sql.types import *\n",
    "from pyspark.sql import functions as F\n",
    "from pyspark.sql.functions import *\n",
    "\n"
   ]
  },
  {
   "cell_type": "code",
   "execution_count": 4,
   "id": "d8252944",
   "metadata": {},
   "outputs": [],
   "source": [
    "#read the database username and password from secret.txt\n",
    "secrets_file = os.path.join(\"files\", \"secret.txt\")\n",
    "with open(secrets_file, \"r\") as f:\t\t\n",
    "    lines = f.readlines()\n",
    "for line in lines:\n",
    "    words = line.split(\"=\")\n",
    "    if (words[0] == \"user\"):\n",
    "        user = words[1].strip()\n",
    "    elif (words[0] == \"password\"):\n",
    "        password = words[1].strip()\n",
    "f.close()"
   ]
  },
  {
   "cell_type": "code",
   "execution_count": 5,
   "id": "e9c5b020",
   "metadata": {},
   "outputs": [],
   "source": [
    "spark = SparkSession.builder.appName('capstone_project').getOrCreate()\n"
   ]
  },
  {
   "cell_type": "code",
   "execution_count": 6,
   "id": "80c6e7aa",
   "metadata": {},
   "outputs": [],
   "source": [
    "cdw_sapp_customer = os.path.join(\"files\", \"cdw_sapp_custmer.json\")\n",
    "\n",
    "df_customer = spark.read.json(cdw_sapp_customer)\n",
    "\n"
   ]
  },
  {
   "cell_type": "code",
   "execution_count": 7,
   "id": "71bd9a73",
   "metadata": {},
   "outputs": [
    {
     "name": "stdout",
     "output_type": "stream",
     "text": [
      "+------+----------------+------------+-------------+--------------------+----------+----------+--------+----------+---------+--------------------+-----------+---------+-----------------+\n",
      "|APT_NO|  CREDIT_CARD_NO|   CUST_CITY| CUST_COUNTRY|          CUST_EMAIL|CUST_PHONE|CUST_STATE|CUST_ZIP|FIRST_NAME|LAST_NAME|        LAST_UPDATED|MIDDLE_NAME|      SSN|      STREET_NAME|\n",
      "+------+----------------+------------+-------------+--------------------+----------+----------+--------+----------+---------+--------------------+-----------+---------+-----------------+\n",
      "|   656|4210653310061055|     Natchez|United States| AHooper@example.com|   1237818|        MS|   39120|      Alec|   Hooper|2018-04-21T12:49:...|         Wm|123456100|Main Street North|\n",
      "|   829|4210653310102868|Wethersfield|United States| EHolman@example.com|   1238933|        CT|   06109|      Etta|   Holman|2018-04-21T12:49:...|    Brendan|123453023|    Redwood Drive|\n",
      "|   683|4210653310116272|     Huntley|United States| WDunham@example.com|   1243018|        IL|   60142|    Wilber|   Dunham|2018-04-21T12:49:...|   Ezequiel|123454487| 12th Street East|\n",
      "|   253|4210653310195948|   NewBerlin|United States|  EHardy@example.com|   1243215|        WI|   53151|   Eugenio|    Hardy|2018-04-21T12:49:...|      Trina|123459758|Country Club Road|\n",
      "|   301|4210653310356919|      ElPaso|United States|  WAyers@example.com|   1242074|        TX|   79930|   Wilfred|    Ayers|2018-04-21T12:49:...|        May|123454431|   Madison Street|\n",
      "|     3|4210653310395982|NorthOlmsted|United States|BWoodard@example.com|   1242570|        OH|   44070|      Beau|  Woodard|2018-04-21T12:49:...|    Ambrose|123454202|   Colonial Drive|\n",
      "|    84|4210653310400536|      Vienna|United States|   SKemp@example.com|   1239685|        VA|   22180|    Sheila|     Kemp|2018-04-21T12:49:...|      Larry|123451799|   Belmont Avenue|\n",
      "|   728|4210653310459911|      Duarte|United States| WHurley@example.com|   1238213|        CA|   91010|     Wendy|   Hurley|2018-04-21T12:49:...|        Ora|123453875|     Oxford Court|\n",
      "|    81|4210653310773972|      Owosso|United States|AGilmore@example.com|   1240689|        MI|   48867|      Alec|  Gilmore|2018-04-21T12:49:...|     Tracie|123457511|    Forest Street|\n",
      "|   561|4210653310794854|        Zion|United States|    BLau@example.com|   1235222|        IL|   60099|    Barbra|      Lau|2018-04-21T12:49:...|    Mitchel|123457464|     Court Street|\n",
      "|   622|4210653310817373|  Youngstown|United States|EThomson@example.com|   1241363|        OH|   44512|   Edmundo|  Thomson|2018-04-21T12:49:...|      Denny|123457639|    Cypress Court|\n",
      "|   924|4210653310844617| Summerville|United States| ETruong@example.com|   1236228|        SC|   29483|      Elsa|   Truong|2018-04-21T12:49:...|   Isabelle|123453242|  8th Street West|\n",
      "|   611|4210653311015303|      ElPaso|United States|HMckinney@example...|   1238165|        TX|   79930|     Homer| Mckinney|2018-04-21T12:49:...|      Henry|123454339|      East Avenue|\n",
      "|   680|4210653311215039|      Fenton|United States|   RKidd@example.com|   1234730|        MI|   48430|      Rita|     Kidd|2018-04-21T12:49:...|     Rickey|123454537|         Route 44|\n",
      "|    71|4210653311229354|  Grandville|United States|ABallard@example.com|   1242113|        MI|   49418|    Amalia|  Ballard|2018-04-21T12:49:...|  Heriberto|123452373|    Warren Street|\n",
      "|   195|4210653311652836|    YubaCity|United States| PThomas@example.com|   1239888|        CA|   95993|     Patty|   Thomas|2018-04-21T12:49:...|   Angelita|123455343|     Jones Street|\n",
      "|   500|4210653311707126|   CapeCoral|United States| JMorrow@example.com|   1240158|        FL|   33904|  Josefina|   Morrow|2018-04-21T12:49:...|   Dorothea|123451533|       New Street|\n",
      "|   989|4210653311730764|  Brookfield|United States|NAndrews@example.com|   1241408|        WI|   53045|    Nelson|  Andrews|2018-04-21T12:49:...|  Jefferson|123459278|  Division Street|\n",
      "|   810|4210653311898082|    Richmond|United States|MSchneider@exampl...|   1238390|        VA|   23223|    Miquel|Schneider|2018-04-21T12:49:...|     Maximo|123456915|     Maple Street|\n",
      "|   649|4210653312021765| WestChester|United States|PTidwell@example.com|   1235067|        PA|   19380|    Parker|  Tidwell|2018-04-21T12:49:...|    Arnulfo|123453807|       Eagle Road|\n",
      "+------+----------------+------------+-------------+--------------------+----------+----------+--------+----------+---------+--------------------+-----------+---------+-----------------+\n",
      "only showing top 20 rows\n",
      "\n"
     ]
    }
   ],
   "source": [
    "\n",
    "type(df_customer)\n",
    "df_customer.show()"
   ]
  },
  {
   "cell_type": "code",
   "execution_count": 8,
   "id": "62de2960",
   "metadata": {},
   "outputs": [
    {
     "name": "stdout",
     "output_type": "stream",
     "text": [
      "root\n",
      " |-- APT_NO: string (nullable = true)\n",
      " |-- CREDIT_CARD_NO: string (nullable = true)\n",
      " |-- CUST_CITY: string (nullable = true)\n",
      " |-- CUST_COUNTRY: string (nullable = true)\n",
      " |-- CUST_EMAIL: string (nullable = true)\n",
      " |-- CUST_PHONE: long (nullable = true)\n",
      " |-- CUST_STATE: string (nullable = true)\n",
      " |-- CUST_ZIP: string (nullable = true)\n",
      " |-- FIRST_NAME: string (nullable = true)\n",
      " |-- LAST_NAME: string (nullable = true)\n",
      " |-- LAST_UPDATED: string (nullable = true)\n",
      " |-- MIDDLE_NAME: string (nullable = true)\n",
      " |-- SSN: long (nullable = true)\n",
      " |-- STREET_NAME: string (nullable = true)\n",
      "\n"
     ]
    }
   ],
   "source": [
    "df_customer.printSchema()"
   ]
  },
  {
   "cell_type": "code",
   "execution_count": 9,
   "id": "b1a82e57",
   "metadata": {},
   "outputs": [],
   "source": [
    "    \n",
    "df_customer.createOrReplaceTempView('customer_data')"
   ]
  },
  {
   "cell_type": "code",
   "execution_count": 10,
   "id": "95d652bb",
   "metadata": {
    "scrolled": true
   },
   "outputs": [],
   "source": [
    "customer_df=spark.sql(\"SELECT CAST(SSN AS INT) SSN, \\\n",
    "CONCAT(UCASE(SUBSTRING(FIRST_NAME,1,1)), LCASE(SUBSTRING(FIRST_NAME,2))) FIRST_NAME, \\\n",
    "LOWER(MIDDLE_NAME) MIDDLE_NAME, \\\n",
    "CONCAT(UCASE(SUBSTRING(last_name,1,1)), LCASE(SUBSTRING(last_name,2))) LAST_NAME, \\\n",
    "Credit_card_no, \\\n",
    "CONCAT(APT_NO,' ,',STREET_NAME) FULL_STREET_ADDRESS, \\\n",
    "CUST_CITY, CUST_STATE, CUST_COUNTRY, CUST_ZIP, CONCAT(SUBSTRING(cust_phone, 1,3), '-',SUBSTRING(cust_phone,4)) CUST_PHONE, \\\n",
    "CUST_EMAIL, LAST_UPDATED FROM customer_data\")"
   ]
  },
  {
   "cell_type": "code",
   "execution_count": 11,
   "id": "9bdf9ab3",
   "metadata": {},
   "outputs": [
    {
     "name": "stdout",
     "output_type": "stream",
     "text": [
      "+---------+----------+-----------+---------+----------------+--------------------+------------+----------+-------------+--------+----------+--------------------+--------------------+\n",
      "|      SSN|FIRST_NAME|MIDDLE_NAME|LAST_NAME|  Credit_card_no| FULL_STREET_ADDRESS|   CUST_CITY|CUST_STATE| CUST_COUNTRY|CUST_ZIP|CUST_PHONE|          CUST_EMAIL|        LAST_UPDATED|\n",
      "+---------+----------+-----------+---------+----------------+--------------------+------------+----------+-------------+--------+----------+--------------------+--------------------+\n",
      "|123456100|      Alec|         wm|   Hooper|4210653310061055|656 ,Main Street ...|     Natchez|        MS|United States|   39120|  123-7818| AHooper@example.com|2018-04-21T12:49:...|\n",
      "|123453023|      Etta|    brendan|   Holman|4210653310102868|  829 ,Redwood Drive|Wethersfield|        CT|United States|   06109|  123-8933| EHolman@example.com|2018-04-21T12:49:...|\n",
      "|123454487|    Wilber|   ezequiel|   Dunham|4210653310116272|683 ,12th Street ...|     Huntley|        IL|United States|   60142|  124-3018| WDunham@example.com|2018-04-21T12:49:...|\n",
      "|123459758|   Eugenio|      trina|    Hardy|4210653310195948|253 ,Country Club...|   NewBerlin|        WI|United States|   53151|  124-3215|  EHardy@example.com|2018-04-21T12:49:...|\n",
      "|123454431|   Wilfred|        may|    Ayers|4210653310356919| 301 ,Madison Street|      ElPaso|        TX|United States|   79930|  124-2074|  WAyers@example.com|2018-04-21T12:49:...|\n",
      "|123454202|      Beau|    ambrose|  Woodard|4210653310395982|   3 ,Colonial Drive|NorthOlmsted|        OH|United States|   44070|  124-2570|BWoodard@example.com|2018-04-21T12:49:...|\n",
      "|123451799|    Sheila|      larry|     Kemp|4210653310400536|  84 ,Belmont Avenue|      Vienna|        VA|United States|   22180|  123-9685|   SKemp@example.com|2018-04-21T12:49:...|\n",
      "|123453875|     Wendy|        ora|   Hurley|4210653310459911|   728 ,Oxford Court|      Duarte|        CA|United States|   91010|  123-8213| WHurley@example.com|2018-04-21T12:49:...|\n",
      "|123457511|      Alec|     tracie|  Gilmore|4210653310773972|   81 ,Forest Street|      Owosso|        MI|United States|   48867|  124-0689|AGilmore@example.com|2018-04-21T12:49:...|\n",
      "|123457464|    Barbra|    mitchel|      Lau|4210653310794854|   561 ,Court Street|        Zion|        IL|United States|   60099|  123-5222|    BLau@example.com|2018-04-21T12:49:...|\n",
      "|123457639|   Edmundo|      denny|  Thomson|4210653310817373|  622 ,Cypress Court|  Youngstown|        OH|United States|   44512|  124-1363|EThomson@example.com|2018-04-21T12:49:...|\n",
      "|123453242|      Elsa|   isabelle|   Truong|4210653310844617|924 ,8th Street West| Summerville|        SC|United States|   29483|  123-6228| ETruong@example.com|2018-04-21T12:49:...|\n",
      "|123454339|     Homer|      henry| Mckinney|4210653311015303|    611 ,East Avenue|      ElPaso|        TX|United States|   79930|  123-8165|HMckinney@example...|2018-04-21T12:49:...|\n",
      "|123454537|      Rita|     rickey|     Kidd|4210653311215039|       680 ,Route 44|      Fenton|        MI|United States|   48430|  123-4730|   RKidd@example.com|2018-04-21T12:49:...|\n",
      "|123452373|    Amalia|  heriberto|  Ballard|4210653311229354|   71 ,Warren Street|  Grandville|        MI|United States|   49418|  124-2113|ABallard@example.com|2018-04-21T12:49:...|\n",
      "|123455343|     Patty|   angelita|   Thomas|4210653311652836|   195 ,Jones Street|    YubaCity|        CA|United States|   95993|  123-9888| PThomas@example.com|2018-04-21T12:49:...|\n",
      "|123451533|  Josefina|   dorothea|   Morrow|4210653311707126|     500 ,New Street|   CapeCoral|        FL|United States|   33904|  124-0158| JMorrow@example.com|2018-04-21T12:49:...|\n",
      "|123459278|    Nelson|  jefferson|  Andrews|4210653311730764|989 ,Division Street|  Brookfield|        WI|United States|   53045|  124-1408|NAndrews@example.com|2018-04-21T12:49:...|\n",
      "|123456915|    Miquel|     maximo|Schneider|4210653311898082|   810 ,Maple Street|    Richmond|        VA|United States|   23223|  123-8390|MSchneider@exampl...|2018-04-21T12:49:...|\n",
      "|123453807|    Parker|    arnulfo|  Tidwell|4210653312021765|     649 ,Eagle Road| WestChester|        PA|United States|   19380|  123-5067|PTidwell@example.com|2018-04-21T12:49:...|\n",
      "+---------+----------+-----------+---------+----------------+--------------------+------------+----------+-------------+--------+----------+--------------------+--------------------+\n",
      "only showing top 20 rows\n",
      "\n"
     ]
    }
   ],
   "source": [
    "\n",
    "customer_df.show() "
   ]
  },
  {
   "cell_type": "code",
   "execution_count": 12,
   "id": "cfccd4ba",
   "metadata": {},
   "outputs": [
    {
     "name": "stdout",
     "output_type": "stream",
     "text": [
      "root\n",
      " |-- SSN: integer (nullable = true)\n",
      " |-- FIRST_NAME: string (nullable = true)\n",
      " |-- MIDDLE_NAME: string (nullable = true)\n",
      " |-- LAST_NAME: string (nullable = true)\n",
      " |-- Credit_card_no: string (nullable = true)\n",
      " |-- FULL_STREET_ADDRESS: string (nullable = true)\n",
      " |-- CUST_CITY: string (nullable = true)\n",
      " |-- CUST_STATE: string (nullable = true)\n",
      " |-- CUST_COUNTRY: string (nullable = true)\n",
      " |-- CUST_ZIP: string (nullable = true)\n",
      " |-- CUST_PHONE: string (nullable = true)\n",
      " |-- CUST_EMAIL: string (nullable = true)\n",
      " |-- LAST_UPDATED: string (nullable = true)\n",
      "\n"
     ]
    }
   ],
   "source": [
    "customer_df.printSchema()"
   ]
  },
  {
   "cell_type": "code",
   "execution_count": 13,
   "id": "f0d8aaaf",
   "metadata": {},
   "outputs": [
    {
     "data": {
      "text/plain": [
       "['SSN',\n",
       " 'FIRST_NAME',\n",
       " 'MIDDLE_NAME',\n",
       " 'LAST_NAME',\n",
       " 'Credit_card_no',\n",
       " 'FULL_STREET_ADDRESS',\n",
       " 'CUST_CITY',\n",
       " 'CUST_STATE',\n",
       " 'CUST_COUNTRY',\n",
       " 'CUST_ZIP',\n",
       " 'CUST_PHONE',\n",
       " 'CUST_EMAIL',\n",
       " 'LAST_UPDATED']"
      ]
     },
     "execution_count": 13,
     "metadata": {},
     "output_type": "execute_result"
    }
   ],
   "source": [
    "#df_customer.createOrReplaceTempView('customer_df')\n",
    "customer_df.columns"
   ]
  },
  {
   "cell_type": "code",
   "execution_count": 14,
   "id": "1b6f845c",
   "metadata": {},
   "outputs": [],
   "source": [
    "customer_df.createOrReplaceTempView('customer_df')"
   ]
  },
  {
   "cell_type": "code",
   "execution_count": 15,
   "id": "1a321fc0",
   "metadata": {},
   "outputs": [],
   "source": [
    "#sc.sql(\"SELECT CAST(CUST_ZIP as INT) CUST_ZIP FROM customer_data\")\n",
    "customer_df=spark.sql(\"SELECT SSN, FIRST_NAME, MIDDLE_NAME, LAST_NAME, Credit_Card_no, FULL_STREET_ADDRESS, CUST_CITY,CUST_STATE, \\\n",
    "CUST_COUNTRY, CAST(CUST_ZIP as INT) CUST_ZIP, CUST_PHONE, CUST_EMAIL, LAST_UPDATED FROM customer_df\")"
   ]
  },
  {
   "cell_type": "code",
   "execution_count": 16,
   "id": "d224526b",
   "metadata": {},
   "outputs": [],
   "source": [
    "# customer_df = sc.sql(\"SELECT SSN,  FIRST_NAME, \\\n",
    "#  MIDDLE_NAME, LAST_NAME, Credit_card_no, FULL_STREET_ADDRESS, CUST_CITY, CUST_STATE, \\\n",
    "# CUST_COUNTRY,CAST(CUST_ZIP as INT) CUST_ZIP,CUST_PHONE , CUST_EMAIL,LAST_UPDATED \\\n",
    "# FROM customer_df\")\n",
    "\n",
    "\n"
   ]
  },
  {
   "cell_type": "code",
   "execution_count": 17,
   "id": "20ef5a50",
   "metadata": {},
   "outputs": [
    {
     "name": "stdout",
     "output_type": "stream",
     "text": [
      "root\n",
      " |-- SSN: integer (nullable = true)\n",
      " |-- FIRST_NAME: string (nullable = true)\n",
      " |-- MIDDLE_NAME: string (nullable = true)\n",
      " |-- LAST_NAME: string (nullable = true)\n",
      " |-- Credit_Card_no: string (nullable = true)\n",
      " |-- FULL_STREET_ADDRESS: string (nullable = true)\n",
      " |-- CUST_CITY: string (nullable = true)\n",
      " |-- CUST_STATE: string (nullable = true)\n",
      " |-- CUST_COUNTRY: string (nullable = true)\n",
      " |-- CUST_ZIP: integer (nullable = true)\n",
      " |-- CUST_PHONE: string (nullable = true)\n",
      " |-- CUST_EMAIL: string (nullable = true)\n",
      " |-- LAST_UPDATED: string (nullable = true)\n",
      "\n"
     ]
    }
   ],
   "source": [
    "customer_df.printSchema()"
   ]
  },
  {
   "cell_type": "code",
   "execution_count": 18,
   "id": "f2c2d4d4",
   "metadata": {},
   "outputs": [
    {
     "name": "stdout",
     "output_type": "stream",
     "text": [
      "+---------+----------+-----------+---------+----------------+--------------------+------------+----------+-------------+--------+----------+--------------------+--------------------+\n",
      "|      SSN|FIRST_NAME|MIDDLE_NAME|LAST_NAME|  Credit_Card_no| FULL_STREET_ADDRESS|   CUST_CITY|CUST_STATE| CUST_COUNTRY|CUST_ZIP|CUST_PHONE|          CUST_EMAIL|        LAST_UPDATED|\n",
      "+---------+----------+-----------+---------+----------------+--------------------+------------+----------+-------------+--------+----------+--------------------+--------------------+\n",
      "|123456100|      Alec|         wm|   Hooper|4210653310061055|656 ,Main Street ...|     Natchez|        MS|United States|   39120|  123-7818| AHooper@example.com|2018-04-21T12:49:...|\n",
      "|123453023|      Etta|    brendan|   Holman|4210653310102868|  829 ,Redwood Drive|Wethersfield|        CT|United States|    6109|  123-8933| EHolman@example.com|2018-04-21T12:49:...|\n",
      "|123454487|    Wilber|   ezequiel|   Dunham|4210653310116272|683 ,12th Street ...|     Huntley|        IL|United States|   60142|  124-3018| WDunham@example.com|2018-04-21T12:49:...|\n",
      "|123459758|   Eugenio|      trina|    Hardy|4210653310195948|253 ,Country Club...|   NewBerlin|        WI|United States|   53151|  124-3215|  EHardy@example.com|2018-04-21T12:49:...|\n",
      "|123454431|   Wilfred|        may|    Ayers|4210653310356919| 301 ,Madison Street|      ElPaso|        TX|United States|   79930|  124-2074|  WAyers@example.com|2018-04-21T12:49:...|\n",
      "|123454202|      Beau|    ambrose|  Woodard|4210653310395982|   3 ,Colonial Drive|NorthOlmsted|        OH|United States|   44070|  124-2570|BWoodard@example.com|2018-04-21T12:49:...|\n",
      "|123451799|    Sheila|      larry|     Kemp|4210653310400536|  84 ,Belmont Avenue|      Vienna|        VA|United States|   22180|  123-9685|   SKemp@example.com|2018-04-21T12:49:...|\n",
      "|123453875|     Wendy|        ora|   Hurley|4210653310459911|   728 ,Oxford Court|      Duarte|        CA|United States|   91010|  123-8213| WHurley@example.com|2018-04-21T12:49:...|\n",
      "|123457511|      Alec|     tracie|  Gilmore|4210653310773972|   81 ,Forest Street|      Owosso|        MI|United States|   48867|  124-0689|AGilmore@example.com|2018-04-21T12:49:...|\n",
      "|123457464|    Barbra|    mitchel|      Lau|4210653310794854|   561 ,Court Street|        Zion|        IL|United States|   60099|  123-5222|    BLau@example.com|2018-04-21T12:49:...|\n",
      "|123457639|   Edmundo|      denny|  Thomson|4210653310817373|  622 ,Cypress Court|  Youngstown|        OH|United States|   44512|  124-1363|EThomson@example.com|2018-04-21T12:49:...|\n",
      "|123453242|      Elsa|   isabelle|   Truong|4210653310844617|924 ,8th Street West| Summerville|        SC|United States|   29483|  123-6228| ETruong@example.com|2018-04-21T12:49:...|\n",
      "|123454339|     Homer|      henry| Mckinney|4210653311015303|    611 ,East Avenue|      ElPaso|        TX|United States|   79930|  123-8165|HMckinney@example...|2018-04-21T12:49:...|\n",
      "|123454537|      Rita|     rickey|     Kidd|4210653311215039|       680 ,Route 44|      Fenton|        MI|United States|   48430|  123-4730|   RKidd@example.com|2018-04-21T12:49:...|\n",
      "|123452373|    Amalia|  heriberto|  Ballard|4210653311229354|   71 ,Warren Street|  Grandville|        MI|United States|   49418|  124-2113|ABallard@example.com|2018-04-21T12:49:...|\n",
      "|123455343|     Patty|   angelita|   Thomas|4210653311652836|   195 ,Jones Street|    YubaCity|        CA|United States|   95993|  123-9888| PThomas@example.com|2018-04-21T12:49:...|\n",
      "|123451533|  Josefina|   dorothea|   Morrow|4210653311707126|     500 ,New Street|   CapeCoral|        FL|United States|   33904|  124-0158| JMorrow@example.com|2018-04-21T12:49:...|\n",
      "|123459278|    Nelson|  jefferson|  Andrews|4210653311730764|989 ,Division Street|  Brookfield|        WI|United States|   53045|  124-1408|NAndrews@example.com|2018-04-21T12:49:...|\n",
      "|123456915|    Miquel|     maximo|Schneider|4210653311898082|   810 ,Maple Street|    Richmond|        VA|United States|   23223|  123-8390|MSchneider@exampl...|2018-04-21T12:49:...|\n",
      "|123453807|    Parker|    arnulfo|  Tidwell|4210653312021765|     649 ,Eagle Road| WestChester|        PA|United States|   19380|  123-5067|PTidwell@example.com|2018-04-21T12:49:...|\n",
      "+---------+----------+-----------+---------+----------------+--------------------+------------+----------+-------------+--------+----------+--------------------+--------------------+\n",
      "only showing top 20 rows\n",
      "\n"
     ]
    }
   ],
   "source": [
    "customer_df.show()"
   ]
  },
  {
   "cell_type": "code",
   "execution_count": 19,
   "id": "c223f4c1",
   "metadata": {},
   "outputs": [],
   "source": [
    "df_customer = customer_df.withColumn('LAST_UPDATED', F.to_timestamp('LAST_UPDATED'))"
   ]
  },
  {
   "cell_type": "code",
   "execution_count": 20,
   "id": "167a89bd",
   "metadata": {},
   "outputs": [
    {
     "name": "stdout",
     "output_type": "stream",
     "text": [
      "root\n",
      " |-- SSN: integer (nullable = true)\n",
      " |-- FIRST_NAME: string (nullable = true)\n",
      " |-- MIDDLE_NAME: string (nullable = true)\n",
      " |-- LAST_NAME: string (nullable = true)\n",
      " |-- Credit_Card_no: string (nullable = true)\n",
      " |-- FULL_STREET_ADDRESS: string (nullable = true)\n",
      " |-- CUST_CITY: string (nullable = true)\n",
      " |-- CUST_STATE: string (nullable = true)\n",
      " |-- CUST_COUNTRY: string (nullable = true)\n",
      " |-- CUST_ZIP: integer (nullable = true)\n",
      " |-- CUST_PHONE: string (nullable = true)\n",
      " |-- CUST_EMAIL: string (nullable = true)\n",
      " |-- LAST_UPDATED: timestamp (nullable = true)\n",
      "\n"
     ]
    }
   ],
   "source": [
    "df_customer.printSchema()"
   ]
  },
  {
   "cell_type": "code",
   "execution_count": 21,
   "id": "79f78b16",
   "metadata": {},
   "outputs": [
    {
     "name": "stdout",
     "output_type": "stream",
     "text": [
      "+---------+----------+-----------+---------+----------------+--------------------+------------+----------+-------------+--------+----------+--------------------+-------------------+\n",
      "|      SSN|FIRST_NAME|MIDDLE_NAME|LAST_NAME|  Credit_Card_no| FULL_STREET_ADDRESS|   CUST_CITY|CUST_STATE| CUST_COUNTRY|CUST_ZIP|CUST_PHONE|          CUST_EMAIL|       LAST_UPDATED|\n",
      "+---------+----------+-----------+---------+----------------+--------------------+------------+----------+-------------+--------+----------+--------------------+-------------------+\n",
      "|123456100|      Alec|         wm|   Hooper|4210653310061055|656 ,Main Street ...|     Natchez|        MS|United States|   39120|  123-7818| AHooper@example.com|2018-04-21 11:49:02|\n",
      "|123453023|      Etta|    brendan|   Holman|4210653310102868|  829 ,Redwood Drive|Wethersfield|        CT|United States|    6109|  123-8933| EHolman@example.com|2018-04-21 11:49:02|\n",
      "|123454487|    Wilber|   ezequiel|   Dunham|4210653310116272|683 ,12th Street ...|     Huntley|        IL|United States|   60142|  124-3018| WDunham@example.com|2018-04-21 11:49:02|\n",
      "|123459758|   Eugenio|      trina|    Hardy|4210653310195948|253 ,Country Club...|   NewBerlin|        WI|United States|   53151|  124-3215|  EHardy@example.com|2018-04-21 11:49:02|\n",
      "|123454431|   Wilfred|        may|    Ayers|4210653310356919| 301 ,Madison Street|      ElPaso|        TX|United States|   79930|  124-2074|  WAyers@example.com|2018-04-21 11:49:02|\n",
      "|123454202|      Beau|    ambrose|  Woodard|4210653310395982|   3 ,Colonial Drive|NorthOlmsted|        OH|United States|   44070|  124-2570|BWoodard@example.com|2018-04-21 11:49:02|\n",
      "|123451799|    Sheila|      larry|     Kemp|4210653310400536|  84 ,Belmont Avenue|      Vienna|        VA|United States|   22180|  123-9685|   SKemp@example.com|2018-04-21 11:49:02|\n",
      "|123453875|     Wendy|        ora|   Hurley|4210653310459911|   728 ,Oxford Court|      Duarte|        CA|United States|   91010|  123-8213| WHurley@example.com|2018-04-21 11:49:02|\n",
      "|123457511|      Alec|     tracie|  Gilmore|4210653310773972|   81 ,Forest Street|      Owosso|        MI|United States|   48867|  124-0689|AGilmore@example.com|2018-04-21 11:49:02|\n",
      "|123457464|    Barbra|    mitchel|      Lau|4210653310794854|   561 ,Court Street|        Zion|        IL|United States|   60099|  123-5222|    BLau@example.com|2018-04-21 11:49:02|\n",
      "|123457639|   Edmundo|      denny|  Thomson|4210653310817373|  622 ,Cypress Court|  Youngstown|        OH|United States|   44512|  124-1363|EThomson@example.com|2018-04-21 11:49:02|\n",
      "|123453242|      Elsa|   isabelle|   Truong|4210653310844617|924 ,8th Street West| Summerville|        SC|United States|   29483|  123-6228| ETruong@example.com|2018-04-21 11:49:02|\n",
      "|123454339|     Homer|      henry| Mckinney|4210653311015303|    611 ,East Avenue|      ElPaso|        TX|United States|   79930|  123-8165|HMckinney@example...|2018-04-21 11:49:02|\n",
      "|123454537|      Rita|     rickey|     Kidd|4210653311215039|       680 ,Route 44|      Fenton|        MI|United States|   48430|  123-4730|   RKidd@example.com|2018-04-21 11:49:02|\n",
      "|123452373|    Amalia|  heriberto|  Ballard|4210653311229354|   71 ,Warren Street|  Grandville|        MI|United States|   49418|  124-2113|ABallard@example.com|2018-04-21 11:49:02|\n",
      "|123455343|     Patty|   angelita|   Thomas|4210653311652836|   195 ,Jones Street|    YubaCity|        CA|United States|   95993|  123-9888| PThomas@example.com|2018-04-21 11:49:02|\n",
      "|123451533|  Josefina|   dorothea|   Morrow|4210653311707126|     500 ,New Street|   CapeCoral|        FL|United States|   33904|  124-0158| JMorrow@example.com|2018-04-21 11:49:02|\n",
      "|123459278|    Nelson|  jefferson|  Andrews|4210653311730764|989 ,Division Street|  Brookfield|        WI|United States|   53045|  124-1408|NAndrews@example.com|2018-04-21 11:49:02|\n",
      "|123456915|    Miquel|     maximo|Schneider|4210653311898082|   810 ,Maple Street|    Richmond|        VA|United States|   23223|  123-8390|MSchneider@exampl...|2018-04-21 11:49:02|\n",
      "|123453807|    Parker|    arnulfo|  Tidwell|4210653312021765|     649 ,Eagle Road| WestChester|        PA|United States|   19380|  123-5067|PTidwell@example.com|2018-04-21 11:49:02|\n",
      "+---------+----------+-----------+---------+----------------+--------------------+------------+----------+-------------+--------+----------+--------------------+-------------------+\n",
      "only showing top 20 rows\n",
      "\n"
     ]
    }
   ],
   "source": [
    "df_customer.show()"
   ]
  },
  {
   "cell_type": "code",
   "execution_count": 22,
   "id": "525c6cf2",
   "metadata": {},
   "outputs": [],
   "source": [
    "\n",
    "df_customer.write.format(\"jdbc\") \\\n",
    ".mode(\"append\") \\\n",
    ".option(\"url\", \"jdbc:mysql://localhost:3306/creditcard_capstone\") \\\n",
    ".option(\"dbtable\", \"creditcard_capstone.cdw_sapp_customer\") \\\n",
    ".option(\"user\", user) \\\n",
    ".option(\"password\", password) \\\n",
    ".save()\n"
   ]
  },
  {
   "cell_type": "code",
   "execution_count": 23,
   "id": "7d62b3a4",
   "metadata": {},
   "outputs": [],
   "source": [
    "spark.stop()"
   ]
  },
  {
   "cell_type": "code",
   "execution_count": 24,
   "id": "d55d5291",
   "metadata": {},
   "outputs": [],
   "source": [
    "# ALTER TABLE `creditcard_capstone`.`cdw_sapp_customer` \n",
    "# CHANGE COLUMN `FIRST_NAME` `FIRST_NAME` VARCHAR(45) NULL DEFAULT NULL ,\n",
    "# CHANGE COLUMN `MIDDLE_NAME` `MIDDLE_NAME` VARCHAR(45) NULL DEFAULT NULL ,\n",
    "# CHANGE COLUMN `LAST_NAME` `LAST_NAME` VARCHAR(45) NULL DEFAULT NULL ,\n",
    "# CHANGE COLUMN `Credit_Card_no` `Credit_Card_no` VARCHAR(45) NULL DEFAULT NULL ,\n",
    "# CHANGE COLUMN `FULL_STREET_ADDRESS` `FULL_STREET_ADDRESS` VARCHAR(45) NULL DEFAULT NULL ,\n",
    "# CHANGE COLUMN `CUST_CITY` `CUST_CITY` VARCHAR(45) NULL DEFAULT NULL ,\n",
    "# CHANGE COLUMN `CUST_STATE` `CUST_STATE` VARCHAR(45) NULL DEFAULT NULL ,\n",
    "# CHANGE COLUMN `CUST_COUNTRY` `CUST_COUNTRY` VARCHAR(45) NULL DEFAULT NULL ,\n",
    "# CHANGE COLUMN `CUST_PHONE` `CUST_PHONE` VARCHAR(45) NULL DEFAULT NULL ,\n",
    "# CHANGE COLUMN `CUST_EMAIL` `CUST_EMAIL` VARCHAR(45) NULL DEFAULT NULL ;\n"
   ]
  },
  {
   "cell_type": "code",
   "execution_count": null,
   "id": "b3f2aeaa",
   "metadata": {},
   "outputs": [],
   "source": [
    "\n"
   ]
  },
  {
   "cell_type": "code",
   "execution_count": null,
   "id": "d45adc38",
   "metadata": {},
   "outputs": [],
   "source": [
    "\n"
   ]
  },
  {
   "cell_type": "code",
   "execution_count": null,
   "id": "31095ebc",
   "metadata": {},
   "outputs": [],
   "source": []
  },
  {
   "cell_type": "code",
   "execution_count": null,
   "id": "6c63a752",
   "metadata": {},
   "outputs": [],
   "source": []
  },
  {
   "cell_type": "code",
   "execution_count": null,
   "id": "a61b4b08",
   "metadata": {},
   "outputs": [],
   "source": []
  },
  {
   "cell_type": "code",
   "execution_count": null,
   "id": "8404640f",
   "metadata": {},
   "outputs": [],
   "source": []
  },
  {
   "cell_type": "code",
   "execution_count": null,
   "id": "e2e80644",
   "metadata": {},
   "outputs": [],
   "source": []
  },
  {
   "cell_type": "code",
   "execution_count": null,
   "id": "536ff7e8",
   "metadata": {},
   "outputs": [],
   "source": []
  },
  {
   "cell_type": "code",
   "execution_count": null,
   "id": "ee2449f3",
   "metadata": {},
   "outputs": [],
   "source": []
  },
  {
   "cell_type": "code",
   "execution_count": null,
   "id": "933c242f",
   "metadata": {},
   "outputs": [],
   "source": []
  },
  {
   "cell_type": "code",
   "execution_count": null,
   "id": "c713a9eb",
   "metadata": {},
   "outputs": [],
   "source": []
  },
  {
   "cell_type": "code",
   "execution_count": null,
   "id": "201e2f5d",
   "metadata": {},
   "outputs": [],
   "source": []
  }
 ],
 "metadata": {
  "kernelspec": {
   "display_name": "Python 3 (ipykernel)",
   "language": "python",
   "name": "python3"
  },
  "language_info": {
   "codemirror_mode": {
    "name": "ipython",
    "version": 3
   },
   "file_extension": ".py",
   "mimetype": "text/x-python",
   "name": "python",
   "nbconvert_exporter": "python",
   "pygments_lexer": "ipython3",
   "version": "3.9.12"
  }
 },
 "nbformat": 4,
 "nbformat_minor": 5
}
