{
 "cells": [
  {
   "cell_type": "code",
   "execution_count": null,
   "id": "0d6a2995",
   "metadata": {},
   "outputs": [],
   "source": [
    "import sys\n",
    "import os\n",
    "import findspark\n",
    "findspark.init()\n",
    "\n",
    "os.environ['PYSPARK_PYTHON'] = sys.executable\n",
    "os.environ['PYSPARK_DRIVER_PYTHON'] = sys.executable"
   ]
  },
  {
   "cell_type": "code",
   "execution_count": null,
   "id": "c6128cf4",
   "metadata": {},
   "outputs": [],
   "source": [
    "import spark\n",
    "import pyspark"
   ]
  },
  {
   "cell_type": "code",
   "execution_count": null,
   "id": "3e2320b0",
   "metadata": {},
   "outputs": [],
   "source": [
    "from pyspark import SparkContext\n",
    "from pyspark.sql.session import SparkSession\n",
    "from pyspark.sql.types import *\n",
    "from pyspark.sql import functions as F\n",
    "from pyspark.sql.functions import *"
   ]
  },
  {
   "cell_type": "code",
   "execution_count": null,
   "id": "e8a7a9d6",
   "metadata": {},
   "outputs": [],
   "source": [
    "user = os.getenv(\"user\", default=None)\n",
    "password = os.getenv(\"password\", default=None)"
   ]
  },
  {
   "cell_type": "code",
   "execution_count": null,
   "id": "e9c5b020",
   "metadata": {},
   "outputs": [],
   "source": [
    "spark = SparkSession.builder.appName('capstone_project').getOrCreate()"
   ]
  },
  {
   "cell_type": "code",
   "execution_count": null,
   "id": "80c6e7aa",
   "metadata": {},
   "outputs": [],
   "source": [
    "cdw_sapp_customer = os.path.join(\"files\", \"cdw_sapp_custmer.json\")\n",
    "df_customer = spark.read.json(cdw_sapp_customer)"
   ]
  },
  {
   "cell_type": "code",
   "execution_count": null,
   "id": "71bd9a73",
   "metadata": {},
   "outputs": [],
   "source": [
    "type(df_customer)\n",
    "df_customer.show()"
   ]
  },
  {
   "cell_type": "code",
   "execution_count": null,
   "id": "62de2960",
   "metadata": {},
   "outputs": [],
   "source": [
    "df_customer.printSchema()"
   ]
  },
  {
   "cell_type": "code",
   "execution_count": null,
   "id": "b1a82e57",
   "metadata": {},
   "outputs": [],
   "source": [
    "df_customer.createOrReplaceTempView('customer_data')"
   ]
  },
  {
   "cell_type": "code",
   "execution_count": null,
   "id": "95d652bb",
   "metadata": {
    "scrolled": true
   },
   "outputs": [],
   "source": [
    "customer_df=spark.sql(\"SELECT CAST(SSN AS INT) SSN, \\\n",
    "CONCAT(UCASE(SUBSTRING(FIRST_NAME,1,1)), LCASE(SUBSTRING(FIRST_NAME,2))) FIRST_NAME, \\\n",
    "LOWER(MIDDLE_NAME) MIDDLE_NAME, \\\n",
    "CONCAT(UCASE(SUBSTRING(last_name,1,1)), LCASE(SUBSTRING(last_name,2))) LAST_NAME, \\\n",
    "Credit_card_no, \\\n",
    "CONCAT(APT_NO,' ,',STREET_NAME) FULL_STREET_ADDRESS, \\\n",
    "CUST_CITY, CUST_STATE, CUST_COUNTRY, CUST_ZIP, CONCAT(SUBSTRING(cust_phone, 1,3), '-',SUBSTRING(cust_phone,4)) CUST_PHONE, \\\n",
    "CUST_EMAIL, LAST_UPDATED FROM customer_data\")"
   ]
  },
  {
   "cell_type": "code",
   "execution_count": null,
   "id": "9bdf9ab3",
   "metadata": {},
   "outputs": [],
   "source": [
    "customer_df.show() "
   ]
  },
  {
   "cell_type": "code",
   "execution_count": null,
   "id": "cfccd4ba",
   "metadata": {},
   "outputs": [],
   "source": [
    "customer_df.printSchema()"
   ]
  },
  {
   "cell_type": "code",
   "execution_count": null,
   "id": "f0d8aaaf",
   "metadata": {},
   "outputs": [],
   "source": [
    "#df_customer.createOrReplaceTempView('customer_df')\n",
    "customer_df.columns"
   ]
  },
  {
   "cell_type": "code",
   "execution_count": null,
   "id": "1b6f845c",
   "metadata": {},
   "outputs": [],
   "source": [
    "customer_df.createOrReplaceTempView('customer_df')"
   ]
  },
  {
   "cell_type": "code",
   "execution_count": null,
   "id": "1a321fc0",
   "metadata": {},
   "outputs": [],
   "source": [
    "customer_df=spark.sql(\"SELECT SSN, FIRST_NAME, MIDDLE_NAME, LAST_NAME, Credit_Card_no, FULL_STREET_ADDRESS, CUST_CITY,CUST_STATE, \\\n",
    "CUST_COUNTRY, CAST(CUST_ZIP as INT) CUST_ZIP, CUST_PHONE, CUST_EMAIL, LAST_UPDATED FROM customer_df\")"
   ]
  },
  {
   "cell_type": "code",
   "execution_count": null,
   "id": "20ef5a50",
   "metadata": {},
   "outputs": [],
   "source": [
    "customer_df.printSchema()"
   ]
  },
  {
   "cell_type": "code",
   "execution_count": null,
   "id": "f2c2d4d4",
   "metadata": {},
   "outputs": [],
   "source": [
    "customer_df.show()"
   ]
  },
  {
   "cell_type": "code",
   "execution_count": null,
   "id": "c223f4c1",
   "metadata": {},
   "outputs": [],
   "source": [
    "df_customer = customer_df.withColumn('LAST_UPDATED', F.to_timestamp('LAST_UPDATED'))"
   ]
  },
  {
   "cell_type": "code",
   "execution_count": null,
   "id": "167a89bd",
   "metadata": {},
   "outputs": [],
   "source": [
    "df_customer.printSchema()"
   ]
  },
  {
   "cell_type": "code",
   "execution_count": null,
   "id": "79f78b16",
   "metadata": {},
   "outputs": [],
   "source": [
    "df_customer.show()"
   ]
  },
  {
   "cell_type": "code",
   "execution_count": null,
   "id": "614cf701",
   "metadata": {},
   "outputs": [],
   "source": [
    "# 'DROP TABLE `creditcard_capstone`.`cdw_sapp_customer`; '"
   ]
  },
  {
   "cell_type": "code",
   "execution_count": null,
   "id": "525c6cf2",
   "metadata": {},
   "outputs": [],
   "source": [
    "df_customer.write.format(\"jdbc\") \\\n",
    ".mode(\"append\") \\\n",
    ".option(\"url\", \"jdbc:mysql://localhost:3306/creditcard_capstone\") \\\n",
    ".option(\"dbtable\", \"creditcard_capstone.cdw_sapp_customer\") \\\n",
    ".option(\"user\", user) \\\n",
    ".option(\"password\", password) \\\n",
    ".save()"
   ]
  },
  {
   "cell_type": "code",
   "execution_count": null,
   "id": "7d62b3a4",
   "metadata": {},
   "outputs": [],
   "source": [
    "spark.stop()"
   ]
  },
  {
   "cell_type": "code",
   "execution_count": null,
   "id": "d55d5291",
   "metadata": {},
   "outputs": [],
   "source": [
    "# ALTER TABLE `creditcard_capstone`.`cdw_sapp_customer` \n",
    "# CHANGE COLUMN `FIRST_NAME` `FIRST_NAME` VARCHAR(45) NULL DEFAULT NULL ,\n",
    "# CHANGE COLUMN `MIDDLE_NAME` `MIDDLE_NAME` VARCHAR(45) NULL DEFAULT NULL ,\n",
    "# CHANGE COLUMN `LAST_NAME` `LAST_NAME` VARCHAR(45) NULL DEFAULT NULL ,\n",
    "# CHANGE COLUMN `Credit_Card_no` `Credit_Card_no` VARCHAR(45) NULL DEFAULT NULL ,\n",
    "# CHANGE COLUMN `FULL_STREET_ADDRESS` `FULL_STREET_ADDRESS` VARCHAR(45) NULL DEFAULT NULL ,\n",
    "# CHANGE COLUMN `CUST_CITY` `CUST_CITY` VARCHAR(45) NULL DEFAULT NULL ,\n",
    "# CHANGE COLUMN `CUST_STATE` `CUST_STATE` VARCHAR(45) NULL DEFAULT NULL ,\n",
    "# CHANGE COLUMN `CUST_COUNTRY` `CUST_COUNTRY` VARCHAR(45) NULL DEFAULT NULL ,\n",
    "# CHANGE COLUMN `CUST_PHONE` `CUST_PHONE` VARCHAR(45) NULL DEFAULT NULL ,\n",
    "# CHANGE COLUMN `CUST_EMAIL` `CUST_EMAIL` VARCHAR(45) NULL DEFAULT NULL ;"
   ]
  },
  {
   "cell_type": "code",
   "execution_count": null,
   "id": "b3f2aeaa",
   "metadata": {},
   "outputs": [],
   "source": [
    "# ALTER TABLE `creditcard_capstone`.`cdw_sapp_customer` \n",
    "# CHANGE COLUMN `SSN` `SSN` INT(11) NOT NULL ,\n",
    "# ADD PRIMARY KEY (`SSN`);"
   ]
  }
 ],
 "metadata": {
  "kernelspec": {
   "display_name": "Python 3 (ipykernel)",
   "language": "python",
   "name": "python3"
  },
  "language_info": {
   "codemirror_mode": {
    "name": "ipython",
    "version": 3
   },
   "file_extension": ".py",
   "mimetype": "text/x-python",
   "name": "python",
   "nbconvert_exporter": "python",
   "pygments_lexer": "ipython3",
   "version": "3.9.12"
  },
  "vscode": {
   "interpreter": {
    "hash": "e9ebf9ef809bdc88143f43dd64c0ac139993320cba1081b17292f6ea1461afe7"
   }
  }
 },
 "nbformat": 4,
 "nbformat_minor": 5
}
