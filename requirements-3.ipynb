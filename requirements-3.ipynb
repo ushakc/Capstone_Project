{
 "cells": [
  {
   "cell_type": "code",
   "execution_count": 1,
   "id": "d8316f91",
   "metadata": {},
   "outputs": [],
   "source": [
    "import sys\n",
    "import os\n",
    "import findspark\n",
    "findspark.init()\n",
    "\n",
    "os.environ['PYSPARK_PYTHON'] = sys.executable\n",
    "os.environ['PYSPARK_DRIVER_PYTHON'] = sys.executable"
   ]
  },
  {
   "cell_type": "code",
   "execution_count": 2,
   "id": "304614b8",
   "metadata": {},
   "outputs": [],
   "source": [
    "import spark\n",
    "import pyspark"
   ]
  },
  {
   "cell_type": "code",
   "execution_count": 3,
   "id": "e20cbb37",
   "metadata": {},
   "outputs": [],
   "source": [
    "from pyspark import SparkContext\n",
    "from pyspark.sql.session import SparkSession\n",
    "from pyspark.sql.types import *\n",
    "from pyspark.sql import functions as F\n",
    "from pyspark.sql.functions import *"
   ]
  },
  {
   "cell_type": "code",
   "execution_count": 13,
   "id": "089f68c4",
   "metadata": {},
   "outputs": [],
   "source": [
    "import mysql.connector as mariadb\n",
    "from mysql.connector import Error\n",
    "import numpy as np\n",
    "import pandas as pd\n",
    "from getpass import getpass\n",
    "# Libraries to help with data visualization\n",
    "import matplotlib.pyplot as plt\n",
    "import seaborn as sns\n",
    "\n",
    "# Command to tell Python to actually display the graphs\n",
    "%matplotlib inline"
   ]
  },
  {
   "cell_type": "code",
   "execution_count": 29,
   "id": "866863d9",
   "metadata": {},
   "outputs": [],
   "source": [
    "# get the database username and password from secret.txt\n",
    "secrets_file = os.path.join(\"files\", \"secret.txt\")\n",
    "with open(secrets_file, \"r\") as f:\n",
    "    lines = f.readlines()\n",
    "    for line in lines:\n",
    "        words = line.split(\"=\")\n",
    "        if (words[0] == \"user\"):\n",
    "            user = words[1].strip()\n",
    "        elif (words[0] == \"password\"):\n",
    "            password = words[1].strip()\n",
    "f.close()\n"
   ]
  },
  {
   "cell_type": "code",
   "execution_count": 17,
   "id": "94fa14c1",
   "metadata": {},
   "outputs": [
    {
     "name": "stdout",
     "output_type": "stream",
     "text": [
      " Volume in drive C is OS\n",
      " Volume Serial Number is 04CD-4FD4\n",
      "\n",
      " Directory of C:\\Users\\bkush\\projects\\Capstone_Project\\files\n",
      "\n",
      "08/21/2022  10:02 AM    <DIR>          .\n",
      "08/21/2022  01:25 PM    <DIR>          ..\n",
      "08/21/2022  09:33 AM            25,315 cdw_sapp_branch.json\n",
      "08/21/2022  09:33 AM         8,691,794 cdw_sapp_credit.json\n",
      "08/21/2022  09:33 AM           342,221 cdw_sapp_custmer.json\n",
      "08/20/2022  02:06 PM           117,454 loan_datafile\n",
      "08/21/2022  10:22 AM           117,454 loan_datafile.json\n",
      "08/21/2022  09:14 AM                24 secret.txt\n",
      "               6 File(s)      9,294,262 bytes\n",
      "               2 Dir(s)  273,612,910,592 bytes free\n"
     ]
    }
   ],
   "source": [
    "%ls files"
   ]
  },
  {
   "cell_type": "code",
   "execution_count": 18,
   "id": "698c7978",
   "metadata": {},
   "outputs": [],
   "source": [
    "spark = SparkSession.builder.appName('req3_data_visual').getOrCreate()"
   ]
  },
  {
   "cell_type": "code",
   "execution_count": 19,
   "id": "435318cf",
   "metadata": {},
   "outputs": [
    {
     "data": {
      "text/plain": [
       "186776"
      ]
     },
     "execution_count": 19,
     "metadata": {},
     "output_type": "execute_result"
    }
   ],
   "source": [
    "df_cc = spark.read\\\n",
    "     .format(\"jdbc\")\\\n",
    "     .option(\"url\", \"jdbc:mysql://localhost:3306/creditcard_capstone\")\\\n",
    "     .option(\"dbtable\", \"creditcard_capstone.cdw_sapp_credit_card\")\\\n",
    "     .option(\"user\", user)\\\n",
    "     .option(\"password\", password)\\\n",
    "     .load()\n",
    "df_cc.count()"
   ]
  },
  {
   "cell_type": "code",
   "execution_count": 20,
   "id": "e9431467",
   "metadata": {},
   "outputs": [
    {
     "data": {
      "text/plain": [
       "575"
      ]
     },
     "execution_count": 20,
     "metadata": {},
     "output_type": "execute_result"
    }
   ],
   "source": [
    "df_branch = spark.read\\\n",
    "     .format(\"jdbc\")\\\n",
    "     .option(\"url\", \"jdbc:mysql://localhost:3306/creditcard_capstone\")\\\n",
    "     .option(\"dbtable\", \"creditcard_capstone.cdw_sapp_branch\")\\\n",
    "     .option(\"user\", user)\\\n",
    "     .option(\"password\", password)\\\n",
    "     .load()\n",
    "df_branch.count()"
   ]
  },
  {
   "cell_type": "code",
   "execution_count": 21,
   "id": "0ce028cf",
   "metadata": {},
   "outputs": [
    {
     "data": {
      "text/plain": [
       "4760"
      ]
     },
     "execution_count": 21,
     "metadata": {},
     "output_type": "execute_result"
    }
   ],
   "source": [
    "df_customer = spark.read\\\n",
    "     .format(\"jdbc\")\\\n",
    "     .option(\"url\", \"jdbc:mysql://localhost:3306/creditcard_capstone\")\\\n",
    "     .option(\"dbtable\", \"creditcard_capstone.cdw_sapp_customer\")\\\n",
    "     .option(\"user\", user)\\\n",
    "     .option(\"password\", password)\\\n",
    "     .load()\n",
    "df_customer.count()"
   ]
  },
  {
   "cell_type": "code",
   "execution_count": 22,
   "id": "efdc2c0d",
   "metadata": {},
   "outputs": [],
   "source": [
    "pd_df_cc = df_cc.toPandas()\n",
    "pd_df_branch = df_branch.toPandas()\n",
    "pd_df_customer = df_customer.toPandas()"
   ]
  },
  {
   "cell_type": "code",
   "execution_count": 23,
   "id": "199d2c6a",
   "metadata": {},
   "outputs": [
    {
     "data": {
      "text/html": [
       "<div>\n",
       "<style scoped>\n",
       "    .dataframe tbody tr th:only-of-type {\n",
       "        vertical-align: middle;\n",
       "    }\n",
       "\n",
       "    .dataframe tbody tr th {\n",
       "        vertical-align: top;\n",
       "    }\n",
       "\n",
       "    .dataframe thead th {\n",
       "        text-align: right;\n",
       "    }\n",
       "</style>\n",
       "<table border=\"1\" class=\"dataframe\">\n",
       "  <thead>\n",
       "    <tr style=\"text-align: right;\">\n",
       "      <th></th>\n",
       "      <th>CUST_CC_NO</th>\n",
       "      <th>TIMEID</th>\n",
       "      <th>CUST_SSN</th>\n",
       "      <th>BRANCH_CODE</th>\n",
       "      <th>TRANSACTION_TYPE</th>\n",
       "      <th>TRANSACTION_VALUE</th>\n",
       "      <th>TRANSACTION_ID</th>\n",
       "    </tr>\n",
       "  </thead>\n",
       "  <tbody>\n",
       "    <tr>\n",
       "      <th>0</th>\n",
       "      <td>4210653312478046</td>\n",
       "      <td>20180813</td>\n",
       "      <td>123455692</td>\n",
       "      <td>156</td>\n",
       "      <td>Grocery</td>\n",
       "      <td>91.08</td>\n",
       "      <td>22562</td>\n",
       "    </tr>\n",
       "  </tbody>\n",
       "</table>\n",
       "</div>"
      ],
      "text/plain": [
       "         CUST_CC_NO    TIMEID   CUST_SSN  BRANCH_CODE TRANSACTION_TYPE  \\\n",
       "0  4210653312478046  20180813  123455692          156          Grocery   \n",
       "\n",
       "   TRANSACTION_VALUE  TRANSACTION_ID  \n",
       "0              91.08           22562  "
      ]
     },
     "execution_count": 23,
     "metadata": {},
     "output_type": "execute_result"
    }
   ],
   "source": [
    "pd_df_cc.head(1)"
   ]
  },
  {
   "cell_type": "code",
   "execution_count": 24,
   "id": "d3ae5c8a",
   "metadata": {},
   "outputs": [
    {
     "data": {
      "text/plain": [
       "<AxesSubplot:xlabel='TRANSACTION_TYPE', ylabel='count'>"
      ]
     },
     "execution_count": 24,
     "metadata": {},
     "output_type": "execute_result"
    },
    {
     "data": {
      "image/png": "[encoded data removed]",
      "text/plain": [
       "<Figure size 432x288 with 1 Axes>"
      ]
     },
     "metadata": {
      "needs_background": "light"
     },
     "output_type": "display_data"
    }
   ],
   "source": [
    "sns.countplot(data=pd_df_cc, x='TRANSACTION_TYPE')"
   ]
  },
  {
   "cell_type": "code",
   "execution_count": 25,
   "id": "371e5792",
   "metadata": {},
   "outputs": [
    {
     "name": "stdout",
     "output_type": "stream",
     "text": [
      "Transaction type with highest count is \"Bills\" with a count of 27444\n"
     ]
    }
   ],
   "source": [
    "highest_transaction_type = pd_df_cc['TRANSACTION_TYPE'].value_counts().sort_values(ascending=False).index[0]\n",
    "highest_transaction_count = pd_df_cc['TRANSACTION_TYPE'].value_counts().sort_values(ascending=False)[0]\n",
    "print(\"Transaction type with highest count is \\\"{0}\\\" with a count of {1}\".format(highest_transaction_type, highest_transaction_count))"
   ]
  },
  {
   "cell_type": "code",
   "execution_count": 26,
   "id": "7342d76c",
   "metadata": {},
   "outputs": [],
   "source": [
    "import plotly.express as px"
   ]
  },
  {
   "cell_type": "code",
   "execution_count": 27,
   "id": "8128eeec",
   "metadata": {},
   "outputs": [
    {
     "ename": "NameError",
     "evalue": "name 'pd_df' is not defined",
     "output_type": "error",
     "traceback": [
      "\u001b[1;31m---------------------------------------------------------------------------\u001b[0m",
      "\u001b[1;31mNameError\u001b[0m                                 Traceback (most recent call last)",
      "Input \u001b[1;32mIn [27]\u001b[0m, in \u001b[0;36m<cell line: 1>\u001b[1;34m()\u001b[0m\n\u001b[1;32m----> 1\u001b[0m px\u001b[38;5;241m.\u001b[39mhistogram(\u001b[43mpd_df\u001b[49m, x\u001b[38;5;241m=\u001b[39m\u001b[38;5;124m'\u001b[39m\u001b[38;5;124mTRANSACTION_TYPE\u001b[39m\u001b[38;5;124m'\u001b[39m)\n",
      "\u001b[1;31mNameError\u001b[0m: name 'pd_df' is not defined"
     ]
    }
   ],
   "source": [
    "px.histogram(pd_df, x='TRANSACTION_TYPE')"
   ]
  },
  {
   "cell_type": "code",
   "execution_count": null,
   "id": "74af458a",
   "metadata": {},
   "outputs": [],
   "source": [
    "pd_df_customer.head(1)"
   ]
  },
  {
   "cell_type": "code",
   "execution_count": null,
   "id": "ff29f96d",
   "metadata": {},
   "outputs": [],
   "source": [
    "pd_df_customer['CUST_STATE'].value_counts()"
   ]
  },
  {
   "cell_type": "code",
   "execution_count": null,
   "id": "c24ba8d0",
   "metadata": {},
   "outputs": [],
   "source": [
    "highest_cust_state = pd_df_customer['CUST_STATE'].value_counts().sort_values(ascending=False).index[0]\n",
    "highest_cust_count = pd_df_customer['CUST_STATE'].value_counts().sort_values(ascending=False)[0]\n",
    "print(\"State type with highest customers is \\\"{0}\\\" with a count of {1}\".format(highest_cust_state, highest_cust_count))"
   ]
  },
  {
   "cell_type": "code",
   "execution_count": null,
   "id": "b135ab87",
   "metadata": {},
   "outputs": [],
   "source": [
    "plt.figure(figsize=(10,10))\n",
    "sns.countplot(data=pd_df_customer, y='CUST_STATE')\n",
    "plt.show()"
   ]
  },
  {
   "cell_type": "code",
   "execution_count": null,
   "id": "e12b5b57",
   "metadata": {},
   "outputs": [],
   "source": [
    "px.histogram(pd_df_customer, y='CUST_STATE')"
   ]
  },
  {
   "cell_type": "code",
   "execution_count": 28,
   "id": "4e607fbc",
   "metadata": {},
   "outputs": [],
   "source": [
    "spark.stop()"
   ]
  },
  {
   "cell_type": "code",
   "execution_count": null,
   "id": "993b3afd",
   "metadata": {},
   "outputs": [],
   "source": []
  },
  {
   "cell_type": "code",
   "execution_count": null,
   "id": "be9d06f3",
   "metadata": {},
   "outputs": [],
   "source": []
  },
  {
   "cell_type": "code",
   "execution_count": null,
   "id": "9d659013",
   "metadata": {},
   "outputs": [],
   "source": []
  },
  {
   "cell_type": "code",
   "execution_count": null,
   "id": "48359865",
   "metadata": {},
   "outputs": [],
   "source": []
  }
 ],
 "metadata": {
  "kernelspec": {
   "display_name": "Python 3 (ipykernel)",
   "language": "python",
   "name": "python3"
  },
  "language_info": {
   "codemirror_mode": {
    "name": "ipython",
    "version": 3
   },
   "file_extension": ".py",
   "mimetype": "text/x-python",
   "name": "python",
   "nbconvert_exporter": "python",
   "pygments_lexer": "ipython3",
   "version": "3.9.12"
  }
 },
 "nbformat": 4,
 "nbformat_minor": 5
}
