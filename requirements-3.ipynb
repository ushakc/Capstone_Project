{
 "cells": [
  {
   "cell_type": "code",
   "execution_count": null,
   "id": "d8316f91",
   "metadata": {},
   "outputs": [],
   "source": [
    "import sys\n",
    "import os\n",
    "import findspark\n",
    "findspark.init()\n",
    "\n",
    "os.environ['PYSPARK_PYTHON'] = sys.executable\n",
    "os.environ['PYSPARK_DRIVER_PYTHON'] = sys.executable"
   ]
  },
  {
   "cell_type": "code",
   "execution_count": null,
   "id": "304614b8",
   "metadata": {},
   "outputs": [],
   "source": [
    "import spark\n",
    "import pyspark"
   ]
  },
  {
   "cell_type": "code",
   "execution_count": null,
   "id": "e20cbb37",
   "metadata": {},
   "outputs": [],
   "source": [
    "from pyspark import SparkContext\n",
    "from pyspark.sql.session import SparkSession\n",
    "from pyspark.sql.types import *\n",
    "from pyspark.sql import functions as F\n",
    "from pyspark.sql.functions import *"
   ]
  },
  {
   "cell_type": "code",
   "execution_count": null,
   "id": "089f68c4",
   "metadata": {},
   "outputs": [],
   "source": [
    "import mysql.connector as mariadb\n",
    "from mysql.connector import Error\n",
    "import numpy as np\n",
    "import pandas as pd\n",
    "from getpass import getpass\n",
    "# Libraries to help with data visualization\n",
    "import matplotlib.pyplot as plt\n",
    "import seaborn as sns\n",
    "\n",
    "# Command to tell Python to actually display the graphs\n",
    "%matplotlib inline"
   ]
  },
  {
   "cell_type": "code",
   "execution_count": null,
   "id": "866863d9",
   "metadata": {},
   "outputs": [],
   "source": [
    "# get the database username and password from secret.txt\n",
    "secrets_file = os.path.join(\"files\", \"secret.txt\")\n",
    "with open(secrets_file, \"r\") as f:\n",
    "    lines = f.readlines()\n",
    "    for line in lines:\n",
    "        words = line.split(\"=\")\n",
    "        if (words[0] == \"user\"):\n",
    "            user = words[1].strip()\n",
    "        elif (words[0] == \"password\"):\n",
    "            password = words[1].strip()\n",
    "f.close()\n"
   ]
  },
  {
   "cell_type": "code",
   "execution_count": null,
   "id": "94fa14c1",
   "metadata": {},
   "outputs": [],
   "source": [
    "%ls files"
   ]
  },
  {
   "cell_type": "code",
   "execution_count": null,
   "id": "698c7978",
   "metadata": {},
   "outputs": [],
   "source": [
    "spark = SparkSession.builder.appName('req3_data_visual').getOrCreate()"
   ]
  },
  {
   "cell_type": "code",
   "execution_count": null,
   "id": "435318cf",
   "metadata": {},
   "outputs": [],
   "source": [
    "df_cc = spark.read\\\n",
    "     .format(\"jdbc\")\\\n",
    "     .option(\"url\", \"jdbc:mysql://localhost:3306/creditcard_capstone\")\\\n",
    "     .option(\"dbtable\", \"creditcard_capstone.cdw_sapp_credit_card\")\\\n",
    "     .option(\"user\", user)\\\n",
    "     .option(\"password\", password)\\\n",
    "     .load()\n",
    "df_cc.count()"
   ]
  },
  {
   "cell_type": "code",
   "execution_count": null,
   "id": "e9431467",
   "metadata": {},
   "outputs": [],
   "source": [
    "df_branch = spark.read\\\n",
    "     .format(\"jdbc\")\\\n",
    "     .option(\"url\", \"jdbc:mysql://localhost:3306/creditcard_capstone\")\\\n",
    "     .option(\"dbtable\", \"creditcard_capstone.cdw_sapp_branch\")\\\n",
    "     .option(\"user\", user)\\\n",
    "     .option(\"password\", password)\\\n",
    "     .load()\n",
    "df_branch.count()"
   ]
  },
  {
   "cell_type": "code",
   "execution_count": null,
   "id": "0ce028cf",
   "metadata": {},
   "outputs": [],
   "source": [
    "df_customer = spark.read\\\n",
    "     .format(\"jdbc\")\\\n",
    "     .option(\"url\", \"jdbc:mysql://localhost:3306/creditcard_capstone\")\\\n",
    "     .option(\"dbtable\", \"creditcard_capstone.cdw_sapp_customer\")\\\n",
    "     .option(\"user\", user)\\\n",
    "     .option(\"password\", password)\\\n",
    "     .load()\n",
    "df_customer.count()"
   ]
  },
  {
   "cell_type": "code",
   "execution_count": null,
   "id": "efdc2c0d",
   "metadata": {},
   "outputs": [],
   "source": [
    "pd_df_cc = df_cc.toPandas()\n",
    "pd_df_branch = df_branch.toPandas()\n",
    "pd_df_customer = df_customer.toPandas()"
   ]
  },
  {
   "cell_type": "code",
   "execution_count": null,
   "id": "199d2c6a",
   "metadata": {},
   "outputs": [],
   "source": [
    "pd_df_cc.head(1)"
   ]
  },
  {
   "cell_type": "markdown",
   "id": "0ee5e052",
   "metadata": {},
   "source": [
    "Find and plot transactions, showing which transaction type occurs most often."
   ]
  },
  {
   "cell_type": "code",
   "execution_count": null,
   "id": "d3ae5c8a",
   "metadata": {},
   "outputs": [],
   "source": [
    "sns.countplot(data=pd_df_cc, x='TRANSACTION_TYPE')"
   ]
  },
  {
   "cell_type": "code",
   "execution_count": null,
   "id": "371e5792",
   "metadata": {},
   "outputs": [],
   "source": [
    "highest_transaction_type = pd_df_cc['TRANSACTION_TYPE'].value_counts().sort_values(ascending=False).index[0]\n",
    "highest_transaction_count = pd_df_cc['TRANSACTION_TYPE'].value_counts().sort_values(ascending=False)[0]\n",
    "print(\"Transaction type with highest count is \\\"{0}\\\" with a count of {1}\".format(highest_transaction_type, highest_transaction_count))"
   ]
  },
  {
   "cell_type": "code",
   "execution_count": null,
   "id": "7342d76c",
   "metadata": {},
   "outputs": [],
   "source": [
    "import plotly.express as px"
   ]
  },
  {
   "cell_type": "code",
   "execution_count": null,
   "id": "8128eeec",
   "metadata": {},
   "outputs": [],
   "source": [
    "px.histogram(pd_df_cc, x='TRANSACTION_TYPE')"
   ]
  },
  {
   "cell_type": "code",
   "execution_count": null,
   "id": "74af458a",
   "metadata": {},
   "outputs": [],
   "source": [
    "pd_df_customer.head(1)"
   ]
  },
  {
   "cell_type": "markdown",
   "id": "751f0ff9",
   "metadata": {},
   "source": [
    "Find and plot states, showing which state has the highest number of customers."
   ]
  },
  {
   "cell_type": "code",
   "execution_count": null,
   "id": "ff29f96d",
   "metadata": {},
   "outputs": [],
   "source": [
    "pd_df_customer['CUST_STATE'].value_counts()"
   ]
  },
  {
   "cell_type": "code",
   "execution_count": null,
   "id": "c24ba8d0",
   "metadata": {},
   "outputs": [],
   "source": [
    "highest_cust_state = pd_df_customer['CUST_STATE'].value_counts().sort_values(ascending=False).index[0]\n",
    "highest_cust_count = pd_df_customer['CUST_STATE'].value_counts().sort_values(ascending=False)[0]\n",
    "print(\"State type with highest customers is \\\"{0}\\\" with a count of {1}\".format(highest_cust_state, highest_cust_count))"
   ]
  },
  {
   "cell_type": "code",
   "execution_count": null,
   "id": "b135ab87",
   "metadata": {},
   "outputs": [],
   "source": [
    "plt.figure(figsize=(10,10))\n",
    "sns.countplot(data=pd_df_customer, y='CUST_STATE')\n",
    "plt.show()"
   ]
  },
  {
   "cell_type": "code",
   "execution_count": null,
   "id": "e12b5b57",
   "metadata": {},
   "outputs": [],
   "source": [
    "px.histogram(pd_df_customer, y='CUST_STATE')"
   ]
  },
  {
   "cell_type": "code",
   "execution_count": null,
   "id": "4e607fbc",
   "metadata": {},
   "outputs": [],
   "source": [
    "#spark.stop()"
   ]
  },
  {
   "cell_type": "markdown",
   "id": "1ca01ff0",
   "metadata": {},
   "source": [
    "Find and plot the sum of all transactions for each customer, and which customer has the highest transaction amount.\n",
    "hint(use CUST_SSN)."
   ]
  },
  {
   "cell_type": "code",
   "execution_count": null,
   "id": "be9d06f3",
   "metadata": {},
   "outputs": [],
   "source": [
    "highest_transaction_value = pd_df_cc['TRANSACTION_Value'].value_counts().sort_values(ascending=False).index[0]\n"
   ]
  },
  {
   "cell_type": "code",
   "execution_count": null,
   "id": "9d659013",
   "metadata": {},
   "outputs": [],
   "source": []
  },
  {
   "cell_type": "code",
   "execution_count": null,
   "id": "48359865",
   "metadata": {},
   "outputs": [],
   "source": []
  }
 ],
 "metadata": {
  "kernelspec": {
   "display_name": "Python 3 (ipykernel)",
   "language": "python",
   "name": "python3"
  },
  "language_info": {
   "codemirror_mode": {
    "name": "ipython",
    "version": 3
   },
   "file_extension": ".py",
   "mimetype": "text/x-python",
   "name": "python",
   "nbconvert_exporter": "python",
   "pygments_lexer": "ipython3",
   "version": "3.9.12"
  }
 },
 "nbformat": 4,
 "nbformat_minor": 5
}
