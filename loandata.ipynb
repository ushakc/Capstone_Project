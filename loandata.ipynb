{
 "cells": [
  {
   "cell_type": "code",
   "execution_count": null,
   "id": "329f1f53",
   "metadata": {},
   "outputs": [],
   "source": [
    "import sys\n",
    "import os\n",
    "import findspark\n",
    "findspark.init()\n",
    "\n",
    "os.environ['PYSPARK_PYTHON'] = sys.executable\n",
    "os.environ['PYSPARK_DRIVER_PYTHON'] = sys.executable"
   ]
  },
  {
   "cell_type": "code",
   "execution_count": null,
   "id": "e3564957",
   "metadata": {},
   "outputs": [],
   "source": [
    "import requests\n",
    "from urllib.request import urlopen\n",
    "import json"
   ]
  },
  {
   "cell_type": "code",
   "execution_count": null,
   "id": "b937f220",
   "metadata": {},
   "outputs": [],
   "source": [
    "import spark\n",
    "import pyspark\n",
    "from pyspark import SparkContext\n",
    "from pyspark.sql.session import SparkSession\n",
    "from pyspark.sql.types import *\n",
    "from pyspark.sql import functions as F\n",
    "from pyspark.sql.functions import *"
   ]
  },
  {
   "cell_type": "code",
   "execution_count": null,
   "id": "e480bb73",
   "metadata": {},
   "outputs": [],
   "source": [
    "spark = SparkSession.builder.appName('capstone_project').getOrCreate()"
   ]
  },
  {
   "cell_type": "code",
   "execution_count": null,
   "id": "b4dbc8d8",
   "metadata": {},
   "outputs": [],
   "source": [
    " user = os.getenv(\"user\", default=None)\n",
    " password = os.getenv(\"password\", default=None)"
   ]
  },
  {
   "cell_type": "code",
   "execution_count": null,
   "id": "9baf06b5",
   "metadata": {},
   "outputs": [],
   "source": [
    "url = 'https://raw.githubusercontent.com/platformps/LoanDataset/main/loan_data.json'"
   ]
  },
  {
   "cell_type": "code",
   "execution_count": null,
   "id": "a7064928",
   "metadata": {},
   "outputs": [],
   "source": [
    "try:\n",
    "    response = requests.get(url,timeout=3)\n",
    "    response.raise_for_status()\n",
    "except requests.exceptions.RequestException as err:\n",
    "    print (\"Oops: Something Else\",err)\n",
    "except requests.exceptions.HTTPError as errh:\n",
    "    print (\"Http Error:\",errh)\n",
    "except requests.exceptions.ConnectionError as errc:\n",
    "    print (\"Error Connecting:\",errc)\n",
    "except requests.exceptions.Timeout as errt:\n",
    "    print (\"Timeout Error:\",errt)     \n",
    "print(response.status_code)"
   ]
  },
  {
   "cell_type": "code",
   "execution_count": null,
   "id": "5f866af9",
   "metadata": {},
   "outputs": [],
   "source": [
    "#loan_data = json.loads(response.text)\n",
    "loan_datafile = os.path.join(\"files\", \"loan_datafile.json\")\n",
    "loan_data = response.json()\n",
    "#print(loan_data)\n",
    "with open(loan_datafile,'w') as f:\n",
    "    json.dump(loan_data,f)\n",
    "#print(loan_data)"
   ]
  },
  {
   "cell_type": "code",
   "execution_count": null,
   "id": "5b0b35e3",
   "metadata": {},
   "outputs": [],
   "source": [
    "loan_dataset = spark.read.format('json').load(loan_datafile)"
   ]
  },
  {
   "cell_type": "code",
   "execution_count": null,
   "id": "ea79d5b0",
   "metadata": {},
   "outputs": [],
   "source": [
    "loan_dataset.printSchema()"
   ]
  },
  {
   "cell_type": "code",
   "execution_count": null,
   "id": "044d815a",
   "metadata": {},
   "outputs": [],
   "source": [
    "loan_dataset.show()"
   ]
  },
  {
   "cell_type": "code",
   "execution_count": null,
   "id": "2bc2e58b",
   "metadata": {},
   "outputs": [],
   "source": [
    "f.close()"
   ]
  },
  {
   "cell_type": "code",
   "execution_count": null,
   "id": "b0937fc4",
   "metadata": {},
   "outputs": [],
   "source": [
    "# ' DROP TABLE `creditcard_capstone`.`cdw_sapp_loan_application`;'"
   ]
  },
  {
   "cell_type": "code",
   "execution_count": null,
   "id": "d023fa2d",
   "metadata": {},
   "outputs": [],
   "source": [
    "loan_dataset.write.format(\"jdbc\") \\\n",
    ".mode(\"append\") \\\n",
    ".option(\"url\", \"jdbc:mysql://localhost:3306/creditcard_capstone\") \\\n",
    ".option(\"dbtable\", \"creditcard_capstone.cdw_sapp_loan_application\") \\\n",
    ".option(\"user\", user) \\\n",
    ".option(\"password\", password) \\\n",
    ".save()"
   ]
  },
  {
   "cell_type": "code",
   "execution_count": null,
   "id": "af1742cf",
   "metadata": {},
   "outputs": [],
   "source": [
    "spark.stop()"
   ]
  },
  {
   "cell_type": "code",
   "execution_count": null,
   "id": "55296a5d",
   "metadata": {},
   "outputs": [],
   "source": [
    "#DROP TABLE `creditcard_capstone`.`cdw_sapp_loan_application`;"
   ]
  }
 ],
 "metadata": {
  "kernelspec": {
   "display_name": "Python 3 (ipykernel)",
   "language": "python",
   "name": "python3"
  },
  "language_info": {
   "codemirror_mode": {
    "name": "ipython",
    "version": 3
   },
   "file_extension": ".py",
   "mimetype": "text/x-python",
   "name": "python",
   "nbconvert_exporter": "python",
   "pygments_lexer": "ipython3",
   "version": "3.9.12"
  },
  "vscode": {
   "interpreter": {
    "hash": "e9ebf9ef809bdc88143f43dd64c0ac139993320cba1081b17292f6ea1461afe7"
   }
  }
 },
 "nbformat": 4,
 "nbformat_minor": 5
}
