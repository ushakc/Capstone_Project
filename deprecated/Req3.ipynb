{
 "cells": [
  {
   "cell_type": "code",
   "execution_count": null,
   "id": "d8316f91",
   "metadata": {},
   "outputs": [],
   "source": [
    "import sys\n",
    "import os\n",
    "import findspark\n",
    "findspark.init()\n",
    "\n",
    "os.environ['PYSPARK_PYTHON'] = sys.executable\n",
    "os.environ['PYSPARK_DRIVER_PYTHON'] = sys.executable"
   ]
  },
  {
   "cell_type": "code",
   "execution_count": null,
   "id": "304614b8",
   "metadata": {},
   "outputs": [],
   "source": [
    "import spark\n",
    "import pyspark"
   ]
  },
  {
   "cell_type": "code",
   "execution_count": null,
   "id": "e20cbb37",
   "metadata": {},
   "outputs": [],
   "source": [
    "from pyspark import SparkContext\n",
    "from pyspark.sql.session import SparkSession\n",
    "from pyspark.sql.types import *\n",
    "from pyspark.sql import functions as F\n",
    "from pyspark.sql.functions import *"
   ]
  },
  {
   "cell_type": "code",
   "execution_count": null,
   "id": "089f68c4",
   "metadata": {},
   "outputs": [],
   "source": [
    "import numpy as np\n",
    "import pandas as pd\n",
    "from getpass import getpass\n",
    "# Libraries to help with data visualization\n",
    "import matplotlib.pyplot as plt\n",
    "import seaborn as sns\n",
    "import plotly.express as px\n",
    "\n",
    "# Command to tell Python to actually display the graphs\n",
    "%matplotlib inline"
   ]
  },
  {
   "cell_type": "code",
   "execution_count": null,
   "id": "866863d9",
   "metadata": {},
   "outputs": [],
   "source": [
    "# get the database username and password from secret.txt\n",
    "secrets_file = os.path.join(\"files\", \"secret.txt\")\n",
    "with open(secrets_file, \"r\") as file1:\n",
    "    secret_lines = file1.readlines()\n",
    "for line in secret_lines:\n",
    "    words = line.split(\"=\")\n",
    "    if (words[0] == \"user\"):\n",
    "        user = words[1].strip()\n",
    "    elif (words[0] == \"password\"):\n",
    "        password = words[1].strip()\n",
    "file1.close()"
   ]
  },
  {
   "cell_type": "code",
   "execution_count": null,
   "id": "698c7978",
   "metadata": {},
   "outputs": [],
   "source": [
    "spark = SparkSession.builder.appName('req3_data_visual').getOrCreate()"
   ]
  },
  {
   "cell_type": "code",
   "execution_count": null,
   "id": "435318cf",
   "metadata": {},
   "outputs": [],
   "source": [
    "#creating spark dataframes, from database tables\n",
    "\n",
    "df_cc = spark.read\\\n",
    "     .format(\"jdbc\")\\\n",
    "     .option(\"url\", \"jdbc:mysql://localhost:3306/creditcard_capstone\")\\\n",
    "     .option(\"dbtable\", \"creditcard_capstone.cdw_sapp_credit_card\")\\\n",
    "     .option(\"user\", user)\\\n",
    "     .option(\"password\", password)\\\n",
    "     .load()\n",
    "df_cc.count()"
   ]
  },
  {
   "cell_type": "code",
   "execution_count": null,
   "id": "e9431467",
   "metadata": {},
   "outputs": [],
   "source": [
    "df_branch = spark.read\\\n",
    "     .format(\"jdbc\")\\\n",
    "     .option(\"url\", \"jdbc:mysql://localhost:3306/creditcard_capstone\")\\\n",
    "     .option(\"dbtable\", \"creditcard_capstone.cdw_sapp_branch\")\\\n",
    "     .option(\"user\", user)\\\n",
    "     .option(\"password\", password)\\\n",
    "     .load()\n",
    "df_branch.count()"
   ]
  },
  {
   "cell_type": "code",
   "execution_count": null,
   "id": "0ce028cf",
   "metadata": {},
   "outputs": [],
   "source": [
    "df_customer = spark.read\\\n",
    "     .format(\"jdbc\")\\\n",
    "     .option(\"url\", \"jdbc:mysql://localhost:3306/creditcard_capstone\")\\\n",
    "     .option(\"dbtable\", \"creditcard_capstone.cdw_sapp_customer\")\\\n",
    "     .option(\"user\", user)\\\n",
    "     .option(\"password\", password)\\\n",
    "     .load()\n",
    "df_customer.count()"
   ]
  },
  {
   "cell_type": "code",
   "execution_count": null,
   "id": "efdc2c0d",
   "metadata": {},
   "outputs": [],
   "source": [
    "#converting spark dataframes to panda dataframes\n",
    "pd_df_cc = df_cc.toPandas()\n",
    "pd_df_branch = df_branch.toPandas()\n",
    "pd_df_customer = df_customer.toPandas()"
   ]
  },
  {
   "cell_type": "code",
   "execution_count": null,
   "id": "81061838",
   "metadata": {},
   "outputs": [],
   "source": [
    "pd_df_cc.isnull().sum()#checking for null values"
   ]
  },
  {
   "cell_type": "code",
   "execution_count": null,
   "id": "98ae2106",
   "metadata": {},
   "outputs": [],
   "source": [
    "pd_df_branch.isnull().sum()"
   ]
  },
  {
   "cell_type": "code",
   "execution_count": null,
   "id": "674d5550",
   "metadata": {},
   "outputs": [],
   "source": [
    "pd_df_customer.isnull().sum()"
   ]
  },
  {
   "cell_type": "code",
   "execution_count": null,
   "id": "199d2c6a",
   "metadata": {},
   "outputs": [],
   "source": [
    "pd_df_cc.head(1)"
   ]
  },
  {
   "cell_type": "code",
   "execution_count": null,
   "id": "371e5792",
   "metadata": {},
   "outputs": [],
   "source": [
    "highest_transaction_type = pd_df_cc['TRANSACTION_TYPE'].value_counts().sort_values(ascending=False).index[0]\n",
    "highest_transaction_count = pd_df_cc['TRANSACTION_TYPE'].value_counts().sort_values(ascending=False)[0]\n",
    "print(\"Transaction type with highest count is \\\"{0}\\\" with a count of {1}\".format(highest_transaction_type, highest_transaction_count))"
   ]
  },
  {
   "cell_type": "code",
   "execution_count": null,
   "id": "0cbdb4d6",
   "metadata": {},
   "outputs": [],
   "source": [
    "pd_df_cc['TRANSACTION_TYPE'].value_counts()"
   ]
  },
  {
   "cell_type": "code",
   "execution_count": null,
   "id": "8128eeec",
   "metadata": {},
   "outputs": [],
   "source": [
    "px.histogram(pd_df_cc, x='TRANSACTION_TYPE')"
   ]
  },
  {
   "cell_type": "code",
   "execution_count": null,
   "id": "74af458a",
   "metadata": {},
   "outputs": [],
   "source": [
    "pd_df_customer.head(1)"
   ]
  },
  {
   "cell_type": "code",
   "execution_count": null,
   "id": "ff29f96d",
   "metadata": {},
   "outputs": [],
   "source": [
    "pd_df_customer['CUST_STATE'].value_counts()"
   ]
  },
  {
   "cell_type": "code",
   "execution_count": null,
   "id": "c24ba8d0",
   "metadata": {},
   "outputs": [],
   "source": [
    "highest_cust_state = pd_df_customer['CUST_STATE'].value_counts().sort_values(ascending=False).index[0]\n",
    "highest_cust_count = pd_df_customer['CUST_STATE'].value_counts().sort_values(ascending=False)[0]\n",
    "print(\"State type with highest customers is \\\"{0}\\\" with a count of {1}\".format(highest_cust_state, highest_cust_count))"
   ]
  },
  {
   "cell_type": "code",
   "execution_count": null,
   "id": "e12b5b57",
   "metadata": {},
   "outputs": [],
   "source": [
    "px.histogram(pd_df_customer, y='CUST_STATE')"
   ]
  },
  {
   "cell_type": "code",
   "execution_count": null,
   "id": "3b482c9c",
   "metadata": {},
   "outputs": [],
   "source": [
    "pd_df_cust_tx_val = pd_df_cc.groupby(by='CUST_SSN')['TRANSACTION_VALUE'].sum().sort_values(ascending=False).head(20).reset_index()"
   ]
  },
  {
   "cell_type": "code",
   "execution_count": null,
   "id": "5b7ed098",
   "metadata": {},
   "outputs": [],
   "source": [
    "#https://plotly.com/python/axes/ for reference (to update the axes in plotly)\n",
    "\n",
    "#fig = px.bar(pd_df_cust_tx_val,x='CUST_SSN',y='TRANSACTION_VALUE', color='TRANSACTION_VALUE',height=800)\n",
    "#fig = px.bar(pd_df_cust_tx_val,x='CUST_SSN',y='TRANSACTION_VALUE')\n",
    "fig = px.scatter(pd_df_cust_tx_val,x='CUST_SSN',y='TRANSACTION_VALUE')\n",
    "fig.update_xaxes(type='category')\n",
    "fig.show()\n"
   ]
  },
  {
   "cell_type": "markdown",
   "id": "d7743abb",
   "metadata": {},
   "source": [
    "Find and plot the top three months with the largest transaction data."
   ]
  },
  {
   "cell_type": "code",
   "execution_count": null,
   "id": "4857744a",
   "metadata": {},
   "outputs": [],
   "source": [
    "pd_df_cc['MONTHYEAR'] = pd_df_cc['TIMEID'].str[:-2]"
   ]
  },
  {
   "cell_type": "code",
   "execution_count": null,
   "id": "4359d60f",
   "metadata": {},
   "outputs": [],
   "source": [
    "pd_top3 = pd_df_cc.groupby(['MONTHYEAR'])['TRANSACTION_VALUE'].sum().sort_values(ascending=False).head(3).to_frame().reset_index()"
   ]
  },
  {
   "cell_type": "code",
   "execution_count": null,
   "id": "71f9cfbe",
   "metadata": {},
   "outputs": [],
   "source": [
    "pd_top3"
   ]
  },
  {
   "cell_type": "code",
   "execution_count": null,
   "id": "2f4df223",
   "metadata": {},
   "outputs": [],
   "source": [
    "fig = px.scatter(pd_top3, x='MONTHYEAR', y='TRANSACTION_VALUE')\n",
    "#fig = px.bar(pd_top3, x='MONTHYEAR', y='TRANSACTION_VALUE')\n",
    "fig.update_xaxes(type='category')\n",
    "#fig.update_yaxes(dtick=25000)\n",
    "fig.show()"
   ]
  },
  {
   "cell_type": "code",
   "execution_count": null,
   "id": "5553c7f2",
   "metadata": {},
   "outputs": [],
   "source": [
    "#Need to find plotly version.\n",
    "#px.bar(pd_top3, x='month', y='TRANSACTION_VALUE')"
   ]
  },
  {
   "cell_type": "code",
   "execution_count": null,
   "id": "f49c075b",
   "metadata": {},
   "outputs": [],
   "source": [
    "pd_df_cc_healthcare = pd_df_cc[pd_df_cc['TRANSACTION_TYPE'] == 'Healthcare']"
   ]
  },
  {
   "cell_type": "code",
   "execution_count": null,
   "id": "861c6d55",
   "metadata": {},
   "outputs": [],
   "source": [
    "pd_df_cc_healthcare.groupby(by='BRANCH_CODE')['TRANSACTION_VALUE'].sum().sort_values(ascending=False)"
   ]
  },
  {
   "cell_type": "code",
   "execution_count": null,
   "id": "f5fb10ad",
   "metadata": {},
   "outputs": [],
   "source": [
    "df_br_hc_tx = pd_df_cc_healthcare.groupby(by='BRANCH_CODE')['TRANSACTION_VALUE'].sum().sort_values(ascending=False).head(20).reset_index()"
   ]
  },
  {
   "cell_type": "code",
   "execution_count": null,
   "id": "b273b836",
   "metadata": {},
   "outputs": [],
   "source": [
    "df_br_hc_tx"
   ]
  },
  {
   "cell_type": "code",
   "execution_count": null,
   "id": "b35b4630",
   "metadata": {},
   "outputs": [],
   "source": []
  },
  {
   "cell_type": "code",
   "execution_count": null,
   "id": "c8292e5a",
   "metadata": {},
   "outputs": [],
   "source": [
    "fig = px.bar(df_br_hc_tx, x='BRANCH_CODE', y='TRANSACTION_VALUE')\n",
    "fig.update_xaxes(type='category')\n",
    "fig.show()"
   ]
  },
  {
   "cell_type": "code",
   "execution_count": null,
   "id": "4c82fa29",
   "metadata": {},
   "outputs": [],
   "source": [
    "spark.stop()"
   ]
  }
 ],
 "metadata": {
  "kernelspec": {
   "display_name": "Python 3 (ipykernel)",
   "language": "python",
   "name": "python3"
  },
  "language_info": {
   "codemirror_mode": {
    "name": "ipython",
    "version": 3
   },
   "file_extension": ".py",
   "mimetype": "text/x-python",
   "name": "python",
   "nbconvert_exporter": "python",
   "pygments_lexer": "ipython3",
   "version": "3.9.12"
  },
  "vscode": {
   "interpreter": {
    "hash": "e9ebf9ef809bdc88143f43dd64c0ac139993320cba1081b17292f6ea1461afe7"
   }
  }
 },
 "nbformat": 4,
 "nbformat_minor": 5
}
