{
 "cells": [
  {
   "cell_type": "code",
   "execution_count": null,
   "id": "d8316f91",
   "metadata": {},
   "outputs": [],
   "source": [
    "import sys\n",
    "import os\n",
    "import findspark\n",
    "findspark.init()\n",
    "\n",
    "os.environ['PYSPARK_PYTHON'] = sys.executable\n",
    "os.environ['PYSPARK_DRIVER_PYTHON'] = sys.executable"
   ]
  },
  {
   "cell_type": "code",
   "execution_count": null,
   "id": "304614b8",
   "metadata": {},
   "outputs": [],
   "source": [
    "import spark\n",
    "import pyspark"
   ]
  },
  {
   "cell_type": "code",
   "execution_count": null,
   "id": "e20cbb37",
   "metadata": {},
   "outputs": [],
   "source": [
    "from pyspark import SparkContext\n",
    "from pyspark.sql.session import SparkSession\n",
    "from pyspark.sql.types import *\n",
    "from pyspark.sql import functions as F\n",
    "from pyspark.sql.functions import *"
   ]
  },
  {
   "cell_type": "code",
   "execution_count": null,
   "id": "089f68c4",
   "metadata": {},
   "outputs": [],
   "source": [
    "import mysql.connector as mariadb\n",
    "from mysql.connector import Error\n",
    "import numpy as np\n",
    "import pandas as pd\n",
    "from getpass import getpass\n",
    "# Libraries to help with data visualization\n",
    "import matplotlib.pyplot as plt\n",
    "import seaborn as sns\n",
    "import plotly.express as px\n",
    "\n",
    "# Command to tell Python to actually display the graphs\n",
    "%matplotlib inline"
   ]
  },
  {
   "cell_type": "code",
   "execution_count": null,
   "id": "60f9fd76",
   "metadata": {},
   "outputs": [],
   "source": [
    "user = os.getenv(\"user\", default=None)\n",
    "password = os.getenv(\"password\", default=None)"
   ]
  },
  {
   "cell_type": "code",
   "execution_count": null,
   "id": "698c7978",
   "metadata": {},
   "outputs": [],
   "source": [
    "spark = SparkSession.builder.appName('req5_data_visual').getOrCreate()"
   ]
  },
  {
   "cell_type": "code",
   "execution_count": null,
   "id": "435318cf",
   "metadata": {},
   "outputs": [],
   "source": [
    "#creating spark dataframes, from database tables\n",
    "\n",
    "df_loan = spark.read\\\n",
    "     .format(\"jdbc\")\\\n",
    "     .option(\"url\", \"jdbc:mysql://localhost:3306/creditcard_capstone\")\\\n",
    "     .option(\"dbtable\", \"creditcard_capstone.cdw_sapp_loan_application\")\\\n",
    "     .option(\"user\", user)\\\n",
    "     .option(\"password\", password)\\\n",
    "     .load()\n",
    "df_loan.count()"
   ]
  },
  {
   "cell_type": "code",
   "execution_count": null,
   "id": "efdc2c0d",
   "metadata": {},
   "outputs": [],
   "source": [
    "#converting spark dataframes to panda dataframes\n",
    "pd_df_loan = df_loan.toPandas()\n",
    "\n",
    "pd_df_loan\n"
   ]
  },
  {
   "cell_type": "code",
   "execution_count": null,
   "id": "f131a110",
   "metadata": {},
   "outputs": [],
   "source": [
    "pd_df_loan.isnull().sum()"
   ]
  },
  {
   "cell_type": "markdown",
   "id": "e0d9e303",
   "metadata": {},
   "source": [
    "5.1) Create a bar chart that shows the difference in application approvals for Married Men vs Married Women based on income ranges. (number of approvals)\n"
   ]
  },
  {
   "cell_type": "code",
   "execution_count": null,
   "id": "e9431467",
   "metadata": {},
   "outputs": [],
   "source": [
    "# Application_status = pd_df_loan['Application_Status'].value_counts()['Y']\n",
    "# print(Application_status)"
   ]
  },
  {
   "cell_type": "code",
   "execution_count": null,
   "id": "0ce028cf",
   "metadata": {},
   "outputs": [],
   "source": [
    "#pd_df_cc_healthcare = pd_df_cc[pd_df_cc['TRANSACTION_TYPE'] == 'Healthcare']\n",
    "pd_df_appl_status = pd_df_loan[pd_df_loan['Application_Status']=='Y']\n",
    "pd_df_appl_status = pd_df_appl_status[pd_df_appl_status['Married']=='Yes']"
   ]
  },
  {
   "cell_type": "code",
   "execution_count": null,
   "id": "4789d18d",
   "metadata": {},
   "outputs": [],
   "source": [
    "pd_df_appl_status.head()"
   ]
  },
  {
   "cell_type": "code",
   "execution_count": null,
   "id": "dc42f201",
   "metadata": {},
   "outputs": [],
   "source": [
    " pd_df_appl_status[pd_df_appl_status['Gender']=='Female']"
   ]
  },
  {
   "cell_type": "code",
   "execution_count": null,
   "id": "1c5b7928",
   "metadata": {},
   "outputs": [],
   "source": [
    "pd_df_appl_status.groupby(['Income','Gender'])['Application_ID'].count().to_frame().reset_index()\n",
    "\n",
    "pd_df_appl_status.head()"
   ]
  },
  {
   "cell_type": "code",
   "execution_count": null,
   "id": "3965b72b",
   "metadata": {},
   "outputs": [],
   "source": [
    "pd_df_appl_status_by_income_gender = pd_df_appl_status.groupby(['Income','Gender'])['Application_ID'].count().to_frame().reset_index()"
   ]
  },
  {
   "cell_type": "code",
   "execution_count": null,
   "id": "355d0734",
   "metadata": {},
   "outputs": [],
   "source": [
    "pd_df_appl_status_by_income_gender"
   ]
  },
  {
   "cell_type": "code",
   "execution_count": null,
   "id": "7cdcd7a7",
   "metadata": {},
   "outputs": [],
   "source": [
    "px.bar(pd_df_appl_status, x='Income', y='Application_ID',color = 'Gender', barmode='group')\n"
   ]
  },
  {
   "cell_type": "code",
   "execution_count": null,
   "id": "8c3fb425",
   "metadata": {},
   "outputs": [],
   "source": [
    "pd_df_appl_status['approved'] = 1"
   ]
  },
  {
   "cell_type": "code",
   "execution_count": null,
   "id": "761f5467",
   "metadata": {},
   "outputs": [],
   "source": [
    "px.bar(pd_df_appl_status, x='Income', y='approved',color = 'Gender', barmode='group')"
   ]
  },
  {
   "cell_type": "code",
   "execution_count": null,
   "id": "cb40f8c9",
   "metadata": {},
   "outputs": [],
   "source": [
    "px.histogram(pd_df_appl_status, x='Income', y='approved',color = 'Gender', barmode='group', labels={'x':'Income Range', 'y':'Total Approved'})"
   ]
  },
  {
   "cell_type": "markdown",
   "id": "c1552a64",
   "metadata": {},
   "source": [
    "            5.2)  Create and plot a chart that shows the difference in application approvals based on Property Area. "
   ]
  },
  {
   "cell_type": "code",
   "execution_count": null,
   "id": "db7b863b",
   "metadata": {},
   "outputs": [],
   "source": [
    "pd_df_property = pd_df_loan[['Application_Status','Property_Area']]"
   ]
  },
  {
   "cell_type": "code",
   "execution_count": null,
   "id": "ea4ddafe",
   "metadata": {},
   "outputs": [],
   "source": [
    "pd_df_property=pd_df_property[pd_df_property['Application_Status']=='Y']"
   ]
  },
  {
   "cell_type": "code",
   "execution_count": null,
   "id": "9499223b",
   "metadata": {},
   "outputs": [],
   "source": [
    "Application_Status = pd_df_property.groupby(['Property_Area'])['Application_Status'].value_counts()"
   ]
  },
  {
   "cell_type": "code",
   "execution_count": null,
   "id": "ffe15a91",
   "metadata": {},
   "outputs": [],
   "source": [
    "pd_df_property"
   ]
  },
  {
   "cell_type": "code",
   "execution_count": null,
   "id": "da9c5acd",
   "metadata": {},
   "outputs": [],
   "source": [
    "Application_Status"
   ]
  },
  {
   "cell_type": "code",
   "execution_count": null,
   "id": "762f72a0",
   "metadata": {},
   "outputs": [],
   "source": [
    "df_as = Application_Status.to_frame()"
   ]
  },
  {
   "cell_type": "code",
   "execution_count": null,
   "id": "d5614994",
   "metadata": {},
   "outputs": [],
   "source": [
    "df_as"
   ]
  },
  {
   "cell_type": "code",
   "execution_count": null,
   "id": "214a4fdb",
   "metadata": {},
   "outputs": [],
   "source": [
    "fig = px.histogram(pd_df_property, x='Property_Area')\n",
    "fig.update_xaxes(type='category')\n",
    "fig.show()"
   ]
  },
  {
   "cell_type": "code",
   "execution_count": null,
   "id": "7c353501",
   "metadata": {},
   "outputs": [],
   "source": [
    "Application_Status = pd_df_loan.groupby(['Property_Area'])['Application_Status'].value_counts()"
   ]
  },
  {
   "cell_type": "code",
   "execution_count": null,
   "id": "46ac09c6",
   "metadata": {},
   "outputs": [],
   "source": [
    "Application_Status"
   ]
  },
  {
   "cell_type": "code",
   "execution_count": null,
   "id": "19ca0924",
   "metadata": {},
   "outputs": [],
   "source": [
    "fig = px.histogram(pd_df_property, x='Property_Area')\n",
    "fig.update_xaxes(type='category')\n",
    "fig.show()"
   ]
  },
  {
   "cell_type": "code",
   "execution_count": null,
   "id": "ed8e578b",
   "metadata": {},
   "outputs": [],
   "source": [
    "px.histogram(pd_df_loan, x='Property_Area',color = 'Application_Status', barmode='group', labels={'x':'Property_Area', 'y':'Total Applications'})"
   ]
  },
  {
   "cell_type": "code",
   "execution_count": null,
   "id": "4729bc7c",
   "metadata": {},
   "outputs": [],
   "source": [
    "pd_df_property = pd_df_loan[['Application_ID','Application_Status','Property_Area']]"
   ]
  },
  {
   "cell_type": "code",
   "execution_count": null,
   "id": "641428c9",
   "metadata": {},
   "outputs": [],
   "source": [
    "pd_df_property"
   ]
  },
  {
   "cell_type": "code",
   "execution_count": null,
   "id": "806e4c4c",
   "metadata": {},
   "outputs": [],
   "source": [
    "pd_as = pd_df_property.groupby(['Property_Area', 'Application_Status'])['Application_ID'].count().to_frame().reset_index()"
   ]
  },
  {
   "cell_type": "code",
   "execution_count": null,
   "id": "dcfcd241",
   "metadata": {},
   "outputs": [],
   "source": [
    "pd_as"
   ]
  },
  {
   "cell_type": "code",
   "execution_count": null,
   "id": "3f5e793f",
   "metadata": {},
   "outputs": [],
   "source": [
    "pd_as = pd_as.rename(columns={\"Application_ID\": \"Approved\"})"
   ]
  },
  {
   "cell_type": "code",
   "execution_count": null,
   "id": "b3b0d0a9",
   "metadata": {},
   "outputs": [],
   "source": [
    "pd_as.columns"
   ]
  },
  {
   "cell_type": "code",
   "execution_count": null,
   "id": "6b1527dd",
   "metadata": {},
   "outputs": [],
   "source": [
    "px.pie(pd_as, values='Approved', names='Property_Area', title=\"Difference in Approval based on Property Area\" )"
   ]
  },
  {
   "cell_type": "code",
   "execution_count": null,
   "id": "b6b69dd2",
   "metadata": {},
   "outputs": [],
   "source": [
    "pd_df_loan.columns"
   ]
  },
  {
   "cell_type": "code",
   "execution_count": null,
   "id": "89a9107f",
   "metadata": {},
   "outputs": [],
   "source": [
    "pd_df_loan_approved = pd_df_loan[pd_df_loan['Application_Status'] == 'Y']"
   ]
  },
  {
   "cell_type": "code",
   "execution_count": null,
   "id": "25b4bc0d",
   "metadata": {},
   "outputs": [],
   "source": [
    "groupby_columns = ['Dependents','Education','Gender','Income','Property_Area']"
   ]
  },
  {
   "cell_type": "code",
   "execution_count": null,
   "id": "0fe74907",
   "metadata": {},
   "outputs": [],
   "source": [
    "pd_df_loan_approved.groupby(groupby_columns)['Application_ID'].count()"
   ]
  },
  {
   "cell_type": "code",
   "execution_count": null,
   "id": "eaf66075",
   "metadata": {},
   "outputs": [],
   "source": [
    "pd_g = pd_df_loan_approved.groupby(groupby_columns)['Application_ID'].count().to_frame().reset_index()"
   ]
  },
  {
   "cell_type": "code",
   "execution_count": null,
   "id": "c0e4cc92",
   "metadata": {},
   "outputs": [],
   "source": [
    "pd_s = pd_df_loan_approved.groupby(groupby_columns)['Application_ID'].count()"
   ]
  },
  {
   "cell_type": "code",
   "execution_count": null,
   "id": "8397a8f7",
   "metadata": {},
   "outputs": [],
   "source": [
    "pd_s"
   ]
  },
  {
   "cell_type": "code",
   "execution_count": null,
   "id": "7c3fa97f",
   "metadata": {},
   "outputs": [],
   "source": [
    "pd_g.head(5)"
   ]
  },
  {
   "cell_type": "code",
   "execution_count": null,
   "id": "965f9d3c",
   "metadata": {},
   "outputs": [],
   "source": [
    "pd_g['Demographics'] = pd_g['Dependents'] + \"_\" + pd_g['Education'] + \"_\" + pd_g['Gender'] + \\\n",
    "                       \"_\" + pd_g['Income'] + \"_\" + pd_g['Property_Area']"
   ]
  },
  {
   "cell_type": "code",
   "execution_count": null,
   "id": "72a0b92e",
   "metadata": {},
   "outputs": [],
   "source": [
    "pd_g.head(5)"
   ]
  },
  {
   "cell_type": "code",
   "execution_count": null,
   "id": "32159ec6",
   "metadata": {},
   "outputs": [],
   "source": [
    "fig = px.bar(pd_g, y='Demographics',x='Approved')\n",
    "fig.update_layout(\n",
    "    autosize=False,\n",
    "    width=1000,\n",
    "    height=1500,)"
   ]
  },
  {
   "cell_type": "code",
   "execution_count": null,
   "id": "4c82fa29",
   "metadata": {},
   "outputs": [],
   "source": [
    "spark.stop()"
   ]
  }
 ],
 "metadata": {
  "kernelspec": {
   "display_name": "Python 3 (ipykernel)",
   "language": "python",
   "name": "python3"
  },
  "language_info": {
   "codemirror_mode": {
    "name": "ipython",
    "version": 3
   },
   "file_extension": ".py",
   "mimetype": "text/x-python",
   "name": "python",
   "nbconvert_exporter": "python",
   "pygments_lexer": "ipython3",
   "version": "3.9.12"
  },
  "vscode": {
   "interpreter": {
    "hash": "e9ebf9ef809bdc88143f43dd64c0ac139993320cba1081b17292f6ea1461afe7"
   }
  }
 },
 "nbformat": 4,
 "nbformat_minor": 5
}
