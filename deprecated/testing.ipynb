{
 "cells": [
  {
   "cell_type": "code",
   "execution_count": 2,
   "id": "e0e56348",
   "metadata": {},
   "outputs": [
    {
     "name": "stdout",
     "output_type": "stream",
     "text": [
      "\n",
      "List of Options:\n",
      "----------------\n",
      "1)   Used to display the transactions made by customers living in a given zip code for a given month and year.                                                     Order by day in descending order.             \n",
      "2)    Used to display the number and total values of transactions for a given type.             \n",
      "3)    Used to display the number and total values of transactions for branches in a given state.            \n",
      "4)    Used to check the existing account details of a customer.             \n",
      "5)    Used to modify the existing account details of a customer.             \n",
      "6)    Used to generate a monthly bill for a credit card number for a given month and year.             \n",
      "7)    Used to display the transactions made by a customer between two dates. Order by year, month, and day in descending order.             \n",
      "8)    Exit\n",
      "\n",
      "Select an option from list : 1\n",
      "Enter Your Zip Code:  75033\n",
      "Enter the year for transactions records:  2012\n",
      "Enter the month in the form (XX): 12\n",
      "\n",
      " List of  customer transactions in a given Zip code : \n",
      "\n",
      "\n",
      " Customer no\t\tdate\t   cust_ssn  code  type       value  id\n",
      "No records found with the given input\n",
      "\n",
      "press Enter to continue\n",
      "\n",
      "\n",
      "List of Options:\n",
      "----------------\n",
      "1)   Used to display the transactions made by customers living in a given zip code for a given month and year.                                                     Order by day in descending order.             \n",
      "2)    Used to display the number and total values of transactions for a given type.             \n",
      "3)    Used to display the number and total values of transactions for branches in a given state.            \n",
      "4)    Used to check the existing account details of a customer.             \n",
      "5)    Used to modify the existing account details of a customer.             \n",
      "6)    Used to generate a monthly bill for a credit card number for a given month and year.             \n",
      "7)    Used to display the transactions made by a customer between two dates. Order by year, month, and day in descending order.             \n",
      "8)    Exit\n",
      "\n",
      "Select an option from list : 8\n",
      "THANK YOU\n"
     ]
    }
   ],
   "source": [
    "# option 1 Positive : Inputs are 1 zip - 39120, year - 2018, month - 08\n",
    "# option 1 : Inputs are \n",
    "%run cust_details.py"
   ]
  },
  {
   "cell_type": "code",
   "execution_count": null,
   "id": "85e88608",
   "metadata": {},
   "outputs": [],
   "source": []
  }
 ],
 "metadata": {
  "kernelspec": {
   "display_name": "Python 3 (ipykernel)",
   "language": "python",
   "name": "python3"
  },
  "language_info": {
   "codemirror_mode": {
    "name": "ipython",
    "version": 3
   },
   "file_extension": ".py",
   "mimetype": "text/x-python",
   "name": "python",
   "nbconvert_exporter": "python",
   "pygments_lexer": "ipython3",
   "version": "3.9.12"
  }
 },
 "nbformat": 4,
 "nbformat_minor": 5
}
