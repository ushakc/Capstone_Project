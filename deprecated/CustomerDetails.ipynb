{
 "cells": [
  {
   "cell_type": "code",
   "execution_count": 4,
   "id": "71fa9db3",
   "metadata": {},
   "outputs": [
    {
     "name": "stdout",
     "output_type": "stream",
     "text": [
      "usage: customer_details(2.2).py [-h]\n",
      "                                (--getacct | --updateacct | --getbill | --gettx)\n",
      "                                --lastname LASTNAME --ssnlastfour SSNLASTFOUR\n",
      "\n",
      "Get or Update Customer Details by provinding last name and last 4 digits of\n",
      "ssn\n",
      "\n",
      "optional arguments:\n",
      "  -h, --help            show this help message and exit\n",
      "  --getacct             get customer account details\n",
      "  --updateacct          update customer account details\n",
      "  --getbill             get monthly bill\n",
      "  --gettx               get transaction details for customer\n",
      "  --lastname LASTNAME\n",
      "  --ssnlastfour SSNLASTFOUR\n"
     ]
    }
   ],
   "source": [
    "# get the help message\n",
    "%run customer_details(2.2).py -h\n"
   ]
  },
  {
   "cell_type": "code",
   "execution_count": 8,
   "id": "d2930dfc",
   "metadata": {},
   "outputs": [
    {
     "name": "stdout",
     "output_type": "stream",
     "text": [
      "SSN:\t\t***-**-1007\n",
      "Name:\t\tMarcel Andreas Camp\n",
      "CC No:\t\t4210653344660822\n",
      "Address:\tCollege Avenue ,762\n",
      "\t\tChambersburg\n",
      "\t\tPA,United States - 17201\n",
      "Ph No:\t\t124-1782\n",
      "Email:\t\tMCamp@example.com\n"
     ]
    }
   ],
   "source": [
    "#get detais of customer with last name \"camp\" and last 4 digits of ssn as 1004\n",
    "%run customer_details.py --getacct  --lastname camp --ssn 1007"
   ]
  },
  {
   "cell_type": "code",
   "execution_count": 16,
   "id": "a33b2fc7",
   "metadata": {},
   "outputs": [
    {
     "name": "stdout",
     "output_type": "stream",
     "text": [
      "Accept the value or provide an updated value:\n",
      "Ph No (124-1782): 236789\n",
      "236789\n"
     ]
    }
   ],
   "source": [
    "#update detais of customer with last name \"camp\" and last 4 digits of ssn as 1004\n",
    "%run customer_details(2.2)details.py --updateacct --ssn 1007 --last camp"
   ]
  },
  {
   "cell_type": "code",
   "execution_count": null,
   "id": "97480e91",
   "metadata": {},
   "outputs": [],
   "source": []
  }
 ],
 "metadata": {
  "kernelspec": {
   "display_name": "Python 3 (ipykernel)",
   "language": "python",
   "name": "python3"
  },
  "language_info": {
   "codemirror_mode": {
    "name": "ipython",
    "version": 3
   },
   "file_extension": ".py",
   "mimetype": "text/x-python",
   "name": "python",
   "nbconvert_exporter": "python",
   "pygments_lexer": "ipython3",
   "version": "3.9.12"
  },
  "vscode": {
   "interpreter": {
    "hash": "e9ebf9ef809bdc88143f43dd64c0ac139993320cba1081b17292f6ea1461afe7"
   }
  }
 },
 "nbformat": 4,
 "nbformat_minor": 5
}
