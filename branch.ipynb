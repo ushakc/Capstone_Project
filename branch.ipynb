{
 "cells": [
  {
   "cell_type": "code",
   "execution_count": null,
   "id": "0d6a2995",
   "metadata": {},
   "outputs": [],
   "source": [
    "import sys\n",
    "import os\n",
    "import findspark\n",
    "findspark.init()\n",
    "\n",
    "os.environ['PYSPARK_PYTHON'] = sys.executable\n",
    "os.environ['PYSPARK_DRIVER_PYTHON'] = sys.executable"
   ]
  },
  {
   "cell_type": "code",
   "execution_count": null,
   "id": "c6128cf4",
   "metadata": {},
   "outputs": [],
   "source": [
    "import spark\n",
    "import pyspark"
   ]
  },
  {
   "cell_type": "code",
   "execution_count": null,
   "id": "3e2320b0",
   "metadata": {},
   "outputs": [],
   "source": [
    "from pyspark import SparkContext\n",
    "from pyspark.sql.session import SparkSession\n",
    "from pyspark.sql.types import *\n",
    "from pyspark.sql import functions as F\n",
    "from pyspark.sql.functions import *"
   ]
  },
  {
   "cell_type": "code",
   "execution_count": null,
   "id": "324136ad",
   "metadata": {},
   "outputs": [],
   "source": [
    "user = os.getenv(\"user\", default=None)\n",
    "password = os.getenv(\"password\", default=None)"
   ]
  },
  {
   "cell_type": "code",
   "execution_count": null,
   "id": "e9c5b020",
   "metadata": {},
   "outputs": [],
   "source": [
    "#creating a spark session\n",
    "spark = SparkSession.builder.appName('capstone_project').getOrCreate()"
   ]
  },
  {
   "cell_type": "code",
   "execution_count": null,
   "id": "80c6e7aa",
   "metadata": {},
   "outputs": [],
   "source": [
    "cdw_sapp_branch = os.path.join(\"files\", \"cdw_sapp_branch.json\")\n",
    "df_branch = spark.read.json(cdw_sapp_branch)"
   ]
  },
  {
   "cell_type": "code",
   "execution_count": null,
   "id": "d81acce2",
   "metadata": {},
   "outputs": [],
   "source": [
    "type(df_branch)\n",
    "df_branch.show()"
   ]
  },
  {
   "cell_type": "code",
   "execution_count": null,
   "id": "87eb30eb",
   "metadata": {},
   "outputs": [],
   "source": [
    "df_branch.printSchema()"
   ]
  },
  {
   "cell_type": "code",
   "execution_count": null,
   "id": "b1a82e57",
   "metadata": {},
   "outputs": [],
   "source": [
    "df_branch.createOrReplaceTempView('branch_data')"
   ]
  },
  {
   "cell_type": "code",
   "execution_count": null,
   "id": "95d652bb",
   "metadata": {
    "scrolled": true
   },
   "outputs": [],
   "source": [
    "spark.sql(\"SELECT BRANCH_CODE, BRANCH_NAME, BRANCH_STREET, BRANCH_CITY, BRANCH_STATE, \\\n",
    "IFNULL(branch_zip, 00000) BRANCH_ZIP, CONCAT('(', SUBSTRING(branch_phone,1,3),')', SUBSTRING(branch_phone, 4,3), '-', SUBSTRING(branch_phone,7)) BRANCH_PHONE, LAST_UPDATED \\\n",
    "FROM branch_data\")"
   ]
  },
  {
   "cell_type": "code",
   "execution_count": null,
   "id": "36bd2e80",
   "metadata": {},
   "outputs": [],
   "source": [
    "branch_df = spark.sql(\"SELECT CAST(BRANCH_CODE AS INT) BRANCH_CODE, BRANCH_NAME, BRANCH_STREET, BRANCH_CITY, BRANCH_STATE, \\\n",
    "IFNULL(branch_zip, 00000) BRANCH_ZIP, CONCAT('(', SUBSTRING(branch_phone,1,3),')', SUBSTRING(branch_phone, 4,3), '-', SUBSTRING(branch_phone,7)) BRANCH_PHONE, LAST_UPDATED \\\n",
    "FROM branch_data\")\n",
    "branch_df.show()"
   ]
  },
  {
   "cell_type": "code",
   "execution_count": null,
   "id": "9b9d2d7a",
   "metadata": {},
   "outputs": [],
   "source": [
    "branch_df.printSchema()"
   ]
  },
  {
   "cell_type": "code",
   "execution_count": null,
   "id": "7c876121",
   "metadata": {},
   "outputs": [],
   "source": [
    "branch_df.createOrReplaceTempView('branch_df')"
   ]
  },
  {
   "cell_type": "code",
   "execution_count": null,
   "id": "76545b99",
   "metadata": {},
   "outputs": [],
   "source": [
    "branch_df = spark.sql(\"SELECT BRANCH_CODE, BRANCH_NAME, BRANCH_STREET, BRANCH_CITY, BRANCH_STATE, \\\n",
    "CAST(BRANCH_ZIP as INT) BRANCH_ZIP,BRANCH_PHONE , LAST_UPDATED \\\n",
    "FROM branch_df\")"
   ]
  },
  {
   "cell_type": "code",
   "execution_count": null,
   "id": "94d4aa40",
   "metadata": {},
   "outputs": [],
   "source": [
    "branch_df.printSchema()"
   ]
  },
  {
   "cell_type": "code",
   "execution_count": null,
   "id": "527c48b7",
   "metadata": {},
   "outputs": [],
   "source": [
    "branch_df.show()"
   ]
  },
  {
   "cell_type": "code",
   "execution_count": null,
   "id": "bd77cbb7",
   "metadata": {},
   "outputs": [],
   "source": [
    "df_branch = branch_df.withColumn('LAST_UPDATED', F.to_timestamp('LAST_UPDATED'))"
   ]
  },
  {
   "cell_type": "code",
   "execution_count": null,
   "id": "fc39fe3b",
   "metadata": {},
   "outputs": [],
   "source": [
    "df_branch.printSchema()"
   ]
  },
  {
   "cell_type": "code",
   "execution_count": null,
   "id": "00249b6c",
   "metadata": {},
   "outputs": [],
   "source": [
    "df_branch.show()"
   ]
  },
  {
   "cell_type": "code",
   "execution_count": null,
   "id": "2278e220",
   "metadata": {},
   "outputs": [],
   "source": [
    "df_branch.printSchema()"
   ]
  },
  {
   "cell_type": "code",
   "execution_count": null,
   "id": "0c2bf299",
   "metadata": {},
   "outputs": [],
   "source": [
    "df_branch.show()"
   ]
  },
  {
   "cell_type": "code",
   "execution_count": null,
   "id": "e8a84d57",
   "metadata": {},
   "outputs": [],
   "source": [
    "# 'DROP TABLE `creditcard_capstone`.`cdw_sapp_branch`'"
   ]
  },
  {
   "cell_type": "code",
   "execution_count": null,
   "id": "525c6cf2",
   "metadata": {},
   "outputs": [],
   "source": [
    "df_branch.write.format(\"jdbc\") \\\n",
    ".mode(\"append\") \\\n",
    ".option(\"url\", \"jdbc:mysql://localhost:3306/creditcard_capstone\") \\\n",
    ".option(\"dbtable\", \"creditcard_capstone.cdw_sapp_branch\") \\\n",
    ".option(\"user\", user) \\\n",
    ".option(\"password\", password) \\\n",
    ".save()"
   ]
  },
  {
   "cell_type": "code",
   "execution_count": null,
   "id": "536ff7e8",
   "metadata": {},
   "outputs": [],
   "source": [
    "spark.stop()"
   ]
  },
  {
   "cell_type": "code",
   "execution_count": null,
   "id": "ee2449f3",
   "metadata": {},
   "outputs": [],
   "source": [
    "# ALTER TABLE `creditcard_capstone`.`cdw_sapp_branch` \n",
    "# CHANGE COLUMN `BRANCH_NAME` `BRANCH_NAME` VARCHAR(45) NULL DEFAULT NULL ,\n",
    "# CHANGE COLUMN `BRANCH_STREET` `BRANCH_STREET` VARCHAR(45) NULL DEFAULT NULL ,\n",
    "# CHANGE COLUMN `BRANCH_CITY` `BRANCH_CITY` VARCHAR(45) NULL DEFAULT NULL ,\n",
    "# CHANGE COLUMN `BRANCH_STATE` `BRANCH_STATE` VARCHAR(45) NULL DEFAULT NULL ,\n",
    "# CHANGE COLUMN `BRANCH_PHONE` `BRANCH_PHONE` VARCHAR(45) NULL DEFAULT NULL ;"
   ]
  },
  {
   "cell_type": "code",
   "execution_count": null,
   "id": "940d8637",
   "metadata": {},
   "outputs": [],
   "source": [
    "# ALTER TABLE `creditcard_capstone`.`cdw_sapp_branch` \n",
    "# CHANGE COLUMN `BRANCH_CODE` `BRANCH_CODE` INT(11) NOT NULL ,\n",
    "# ADD PRIMARY KEY (`BRANCH_CODE`);\n"
   ]
  }
 ],
 "metadata": {
  "kernelspec": {
   "display_name": "Python 3 (ipykernel)",
   "language": "python",
   "name": "python3"
  },
  "language_info": {
   "codemirror_mode": {
    "name": "ipython",
    "version": 3
   },
   "file_extension": ".py",
   "mimetype": "text/x-python",
   "name": "python",
   "nbconvert_exporter": "python",
   "pygments_lexer": "ipython3",
   "version": "3.9.12"
  },
  "vscode": {
   "interpreter": {
    "hash": "e9ebf9ef809bdc88143f43dd64c0ac139993320cba1081b17292f6ea1461afe7"
   }
  }
 },
 "nbformat": 4,
 "nbformat_minor": 5
}
