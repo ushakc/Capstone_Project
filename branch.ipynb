{
 "cells": [
  {
   "cell_type": "code",
   "execution_count": 1,
   "id": "0d6a2995",
   "metadata": {},
   "outputs": [],
   "source": [
    "import sys\n",
    "import os\n",
    "import findspark\n",
    "findspark.init()\n",
    "\n",
    "os.environ['PYSPARK_PYTHON'] = sys.executable\n",
    "os.environ['PYSPARK_DRIVER_PYTHON'] = sys.executable\n",
    "\n",
    "\n"
   ]
  },
  {
   "cell_type": "code",
   "execution_count": 2,
   "id": "c6128cf4",
   "metadata": {},
   "outputs": [],
   "source": [
    "import spark\n",
    "import pyspark\n",
    "#from secret.txt import user,password"
   ]
  },
  {
   "cell_type": "code",
   "execution_count": 3,
   "id": "3e2320b0",
   "metadata": {},
   "outputs": [],
   "source": [
    "from pyspark import SparkContext\n",
    "from pyspark.sql.session import SparkSession\n",
    "from pyspark.sql.types import *\n",
    "from pyspark.sql import functions as F\n",
    "from pyspark.sql.functions import *\n",
    "\n"
   ]
  },
  {
   "cell_type": "code",
   "execution_count": 4,
   "id": "e9c5b020",
   "metadata": {},
   "outputs": [],
   "source": [
    "#creating a spark session\n",
    "spark = SparkSession.builder.appName('capstone_project').getOrCreate()\n"
   ]
  },
  {
   "cell_type": "code",
   "execution_count": 5,
   "id": "d864ad37",
   "metadata": {},
   "outputs": [],
   "source": [
    "#read the database username and password from secret.txt\n",
    "secrets_file = os.path.join(\"files\", \"secret.txt\")\n",
    "with open(secrets_file, \"r\") as f:\t\t\n",
    "    lines = f.readlines()\n",
    "for line in lines:\n",
    "    words = line.split(\"=\")\n",
    "    if (words[0] == \"user\"):\n",
    "        user = words[1].strip()\n",
    "    elif (words[0] == \"password\"):\n",
    "        password = words[1].strip()\n"
   ]
  },
  {
   "cell_type": "code",
   "execution_count": 6,
   "id": "80c6e7aa",
   "metadata": {},
   "outputs": [],
   "source": [
    "cdw_sapp_branch = os.path.join(\"files\", \"cdw_sapp_branch.json\")\n",
    "\n",
    "df_branch = spark.read.json(cdw_sapp_branch)\n"
   ]
  },
  {
   "cell_type": "code",
   "execution_count": 7,
   "id": "d81acce2",
   "metadata": {},
   "outputs": [
    {
     "name": "stdout",
     "output_type": "stream",
     "text": [
      "+-----------------+-----------+------------+------------+------------+-------------------+----------+--------------------+\n",
      "|      BRANCH_CITY|BRANCH_CODE| BRANCH_NAME|BRANCH_PHONE|BRANCH_STATE|      BRANCH_STREET|BRANCH_ZIP|        LAST_UPDATED|\n",
      "+-----------------+-----------+------------+------------+------------+-------------------+----------+--------------------+\n",
      "|        Lakeville|          1|Example Bank|  1234565276|          MN|       Bridle Court|     55044|2018-04-18T16:51:...|\n",
      "|          Huntley|          2|Example Bank|  1234618993|          IL|  Washington Street|     60142|2018-04-18T16:51:...|\n",
      "|SouthRichmondHill|          3|Example Bank|  1234985926|          NY|      Warren Street|     11419|2018-04-18T16:51:...|\n",
      "|       Middleburg|          4|Example Bank|  1234663064|          FL|   Cleveland Street|     32068|2018-04-18T16:51:...|\n",
      "|    KingOfPrussia|          5|Example Bank|  1234849701|          PA|        14th Street|     19406|2018-04-18T16:51:...|\n",
      "|         Paterson|          7|Example Bank|  1234144890|          NJ|   Jefferson Street|      7501|2018-04-18T16:51:...|\n",
      "|        Pittsford|          8|Example Bank|  1234678272|          NY|           B Street|     14534|2018-04-18T16:51:...|\n",
      "|     Wethersfield|          9|Example Bank|  1234675219|          CT|    Jefferson Court|      6109|2018-04-18T16:51:...|\n",
      "|     NorthOlmsted|         10|Example Bank|  1234145047|          OH|     Cambridge Road|     44070|2018-04-18T16:51:...|\n",
      "|     Hillsborough|         11|Example Bank|  1234366354|          NJ|    3rd Street West|      8844|2018-04-18T16:51:...|\n",
      "|   MadisonHeights|         12|Example Bank|  1234867175|          MI|          Mill Road|     48071|2018-04-18T16:51:...|\n",
      "|           Oviedo|         14|Example Bank|  1234938460|          FL|  Washington Street|     32765|2018-04-18T16:51:...|\n",
      "|    Mechanicsburg|         15|Example Bank|  1234462043|          PA|    Chestnut Street|     17050|2018-04-18T16:51:...|\n",
      "|        Plainview|         16|Example Bank|  1234857525|          NY|       Monroe Drive|     11803|2018-04-18T16:51:...|\n",
      "|          Paducah|         17|Example Bank|  1234546360|          KY|    Railroad Street|     42001|2018-04-18T16:51:...|\n",
      "|     Harleysville|         18|Example Bank|  1234824455|          PA|Church Street South|     19438|2018-04-18T16:51:...|\n",
      "|     SilverSpring|         19|Example Bank|  1234484380|          MD|        King Street|     20901|2018-04-18T16:51:...|\n",
      "|       Burnsville|         20|Example Bank|  1234840138|          MN|   Canterbury Drive|     55337|2018-04-18T16:51:...|\n",
      "|           Tacoma|         21|Example Bank|  1234362433|          WA|         2nd Avenue|     98444|2018-04-18T16:51:...|\n",
      "|         Carlisle|         22|Example Bank|  1234922492|          PA| Front Street South|     17013|2018-04-18T16:51:...|\n",
      "+-----------------+-----------+------------+------------+------------+-------------------+----------+--------------------+\n",
      "only showing top 20 rows\n",
      "\n"
     ]
    }
   ],
   "source": [
    "\n",
    "type(df_branch)\n",
    "df_branch.show()"
   ]
  },
  {
   "cell_type": "code",
   "execution_count": 8,
   "id": "87eb30eb",
   "metadata": {},
   "outputs": [
    {
     "name": "stdout",
     "output_type": "stream",
     "text": [
      "root\n",
      " |-- BRANCH_CITY: string (nullable = true)\n",
      " |-- BRANCH_CODE: long (nullable = true)\n",
      " |-- BRANCH_NAME: string (nullable = true)\n",
      " |-- BRANCH_PHONE: string (nullable = true)\n",
      " |-- BRANCH_STATE: string (nullable = true)\n",
      " |-- BRANCH_STREET: string (nullable = true)\n",
      " |-- BRANCH_ZIP: long (nullable = true)\n",
      " |-- LAST_UPDATED: string (nullable = true)\n",
      "\n"
     ]
    }
   ],
   "source": [
    "df_branch.printSchema()"
   ]
  },
  {
   "cell_type": "code",
   "execution_count": 9,
   "id": "b1a82e57",
   "metadata": {},
   "outputs": [],
   "source": [
    "    \n",
    "df_branch.createOrReplaceTempView('branch_data')"
   ]
  },
  {
   "cell_type": "code",
   "execution_count": 10,
   "id": "95d652bb",
   "metadata": {
    "scrolled": true
   },
   "outputs": [
    {
     "data": {
      "text/plain": [
       "DataFrame[BRANCH_CODE: bigint, BRANCH_NAME: string, BRANCH_STREET: string, BRANCH_CITY: string, BRANCH_STATE: string, BRANCH_ZIP: bigint, BRANCH_PHONE: string, LAST_UPDATED: string]"
      ]
     },
     "execution_count": 10,
     "metadata": {},
     "output_type": "execute_result"
    }
   ],
   "source": [
    "\n",
    "\n",
    "spark.sql(\"SELECT BRANCH_CODE, BRANCH_NAME, BRANCH_STREET, BRANCH_CITY, BRANCH_STATE, \\\n",
    "IFNULL(branch_zip, 00000) BRANCH_ZIP, CONCAT('(', SUBSTRING(branch_phone,1,3),')', SUBSTRING(branch_phone, 4,3), '-', SUBSTRING(branch_phone,7)) BRANCH_PHONE, LAST_UPDATED \\\n",
    "FROM branch_data\")\n"
   ]
  },
  {
   "cell_type": "code",
   "execution_count": 11,
   "id": "36bd2e80",
   "metadata": {},
   "outputs": [
    {
     "name": "stdout",
     "output_type": "stream",
     "text": [
      "+-----------+------------+-------------------+-----------------+------------+----------+-------------+--------------------+\n",
      "|BRANCH_CODE| BRANCH_NAME|      BRANCH_STREET|      BRANCH_CITY|BRANCH_STATE|BRANCH_ZIP| BRANCH_PHONE|        LAST_UPDATED|\n",
      "+-----------+------------+-------------------+-----------------+------------+----------+-------------+--------------------+\n",
      "|          1|Example Bank|       Bridle Court|        Lakeville|          MN|     55044|(123)456-5276|2018-04-18T16:51:...|\n",
      "|          2|Example Bank|  Washington Street|          Huntley|          IL|     60142|(123)461-8993|2018-04-18T16:51:...|\n",
      "|          3|Example Bank|      Warren Street|SouthRichmondHill|          NY|     11419|(123)498-5926|2018-04-18T16:51:...|\n",
      "|          4|Example Bank|   Cleveland Street|       Middleburg|          FL|     32068|(123)466-3064|2018-04-18T16:51:...|\n",
      "|          5|Example Bank|        14th Street|    KingOfPrussia|          PA|     19406|(123)484-9701|2018-04-18T16:51:...|\n",
      "|          7|Example Bank|   Jefferson Street|         Paterson|          NJ|      7501|(123)414-4890|2018-04-18T16:51:...|\n",
      "|          8|Example Bank|           B Street|        Pittsford|          NY|     14534|(123)467-8272|2018-04-18T16:51:...|\n",
      "|          9|Example Bank|    Jefferson Court|     Wethersfield|          CT|      6109|(123)467-5219|2018-04-18T16:51:...|\n",
      "|         10|Example Bank|     Cambridge Road|     NorthOlmsted|          OH|     44070|(123)414-5047|2018-04-18T16:51:...|\n",
      "|         11|Example Bank|    3rd Street West|     Hillsborough|          NJ|      8844|(123)436-6354|2018-04-18T16:51:...|\n",
      "|         12|Example Bank|          Mill Road|   MadisonHeights|          MI|     48071|(123)486-7175|2018-04-18T16:51:...|\n",
      "|         14|Example Bank|  Washington Street|           Oviedo|          FL|     32765|(123)493-8460|2018-04-18T16:51:...|\n",
      "|         15|Example Bank|    Chestnut Street|    Mechanicsburg|          PA|     17050|(123)446-2043|2018-04-18T16:51:...|\n",
      "|         16|Example Bank|       Monroe Drive|        Plainview|          NY|     11803|(123)485-7525|2018-04-18T16:51:...|\n",
      "|         17|Example Bank|    Railroad Street|          Paducah|          KY|     42001|(123)454-6360|2018-04-18T16:51:...|\n",
      "|         18|Example Bank|Church Street South|     Harleysville|          PA|     19438|(123)482-4455|2018-04-18T16:51:...|\n",
      "|         19|Example Bank|        King Street|     SilverSpring|          MD|     20901|(123)448-4380|2018-04-18T16:51:...|\n",
      "|         20|Example Bank|   Canterbury Drive|       Burnsville|          MN|     55337|(123)484-0138|2018-04-18T16:51:...|\n",
      "|         21|Example Bank|         2nd Avenue|           Tacoma|          WA|     98444|(123)436-2433|2018-04-18T16:51:...|\n",
      "|         22|Example Bank| Front Street South|         Carlisle|          PA|     17013|(123)492-2492|2018-04-18T16:51:...|\n",
      "+-----------+------------+-------------------+-----------------+------------+----------+-------------+--------------------+\n",
      "only showing top 20 rows\n",
      "\n"
     ]
    }
   ],
   "source": [
    "branch_df = spark.sql(\"SELECT CAST(BRANCH_CODE AS INT) BRANCH_CODE, BRANCH_NAME, BRANCH_STREET, BRANCH_CITY, BRANCH_STATE, \\\n",
    "IFNULL(branch_zip, 00000) BRANCH_ZIP, CONCAT('(', SUBSTRING(branch_phone,1,3),')', SUBSTRING(branch_phone, 4,3), '-', SUBSTRING(branch_phone,7)) BRANCH_PHONE, LAST_UPDATED \\\n",
    "FROM branch_data\")\n",
    "branch_df.show()"
   ]
  },
  {
   "cell_type": "code",
   "execution_count": 12,
   "id": "9b9d2d7a",
   "metadata": {},
   "outputs": [
    {
     "name": "stdout",
     "output_type": "stream",
     "text": [
      "root\n",
      " |-- BRANCH_CODE: integer (nullable = true)\n",
      " |-- BRANCH_NAME: string (nullable = true)\n",
      " |-- BRANCH_STREET: string (nullable = true)\n",
      " |-- BRANCH_CITY: string (nullable = true)\n",
      " |-- BRANCH_STATE: string (nullable = true)\n",
      " |-- BRANCH_ZIP: long (nullable = false)\n",
      " |-- BRANCH_PHONE: string (nullable = true)\n",
      " |-- LAST_UPDATED: string (nullable = true)\n",
      "\n"
     ]
    }
   ],
   "source": [
    "branch_df.printSchema()"
   ]
  },
  {
   "cell_type": "code",
   "execution_count": null,
   "id": "03569f0b",
   "metadata": {},
   "outputs": [],
   "source": []
  },
  {
   "cell_type": "code",
   "execution_count": 13,
   "id": "7c876121",
   "metadata": {},
   "outputs": [],
   "source": [
    "#sc.sql(\"SELECT CAST(BRANCH_CODE AS INT) BRANCH_CODE, CAST(BRANCH_ZIP as INT) BRANCH_ZIP FROM branch_data\")\n",
    "branch_df.createOrReplaceTempView('branch_df')"
   ]
  },
  {
   "cell_type": "code",
   "execution_count": 14,
   "id": "76545b99",
   "metadata": {},
   "outputs": [],
   "source": [
    "branch_df = spark.sql(\"SELECT BRANCH_CODE, BRANCH_NAME, BRANCH_STREET, BRANCH_CITY, BRANCH_STATE, \\\n",
    "CAST(BRANCH_ZIP as INT) BRANCH_ZIP,BRANCH_PHONE , LAST_UPDATED \\\n",
    "FROM branch_df\")\n"
   ]
  },
  {
   "cell_type": "code",
   "execution_count": 15,
   "id": "94d4aa40",
   "metadata": {},
   "outputs": [
    {
     "name": "stdout",
     "output_type": "stream",
     "text": [
      "root\n",
      " |-- BRANCH_CODE: integer (nullable = true)\n",
      " |-- BRANCH_NAME: string (nullable = true)\n",
      " |-- BRANCH_STREET: string (nullable = true)\n",
      " |-- BRANCH_CITY: string (nullable = true)\n",
      " |-- BRANCH_STATE: string (nullable = true)\n",
      " |-- BRANCH_ZIP: integer (nullable = false)\n",
      " |-- BRANCH_PHONE: string (nullable = true)\n",
      " |-- LAST_UPDATED: string (nullable = true)\n",
      "\n"
     ]
    }
   ],
   "source": [
    "branch_df.printSchema()"
   ]
  },
  {
   "cell_type": "code",
   "execution_count": 16,
   "id": "527c48b7",
   "metadata": {},
   "outputs": [
    {
     "name": "stdout",
     "output_type": "stream",
     "text": [
      "+-----------+------------+-------------------+-----------------+------------+----------+-------------+--------------------+\n",
      "|BRANCH_CODE| BRANCH_NAME|      BRANCH_STREET|      BRANCH_CITY|BRANCH_STATE|BRANCH_ZIP| BRANCH_PHONE|        LAST_UPDATED|\n",
      "+-----------+------------+-------------------+-----------------+------------+----------+-------------+--------------------+\n",
      "|          1|Example Bank|       Bridle Court|        Lakeville|          MN|     55044|(123)456-5276|2018-04-18T16:51:...|\n",
      "|          2|Example Bank|  Washington Street|          Huntley|          IL|     60142|(123)461-8993|2018-04-18T16:51:...|\n",
      "|          3|Example Bank|      Warren Street|SouthRichmondHill|          NY|     11419|(123)498-5926|2018-04-18T16:51:...|\n",
      "|          4|Example Bank|   Cleveland Street|       Middleburg|          FL|     32068|(123)466-3064|2018-04-18T16:51:...|\n",
      "|          5|Example Bank|        14th Street|    KingOfPrussia|          PA|     19406|(123)484-9701|2018-04-18T16:51:...|\n",
      "|          7|Example Bank|   Jefferson Street|         Paterson|          NJ|      7501|(123)414-4890|2018-04-18T16:51:...|\n",
      "|          8|Example Bank|           B Street|        Pittsford|          NY|     14534|(123)467-8272|2018-04-18T16:51:...|\n",
      "|          9|Example Bank|    Jefferson Court|     Wethersfield|          CT|      6109|(123)467-5219|2018-04-18T16:51:...|\n",
      "|         10|Example Bank|     Cambridge Road|     NorthOlmsted|          OH|     44070|(123)414-5047|2018-04-18T16:51:...|\n",
      "|         11|Example Bank|    3rd Street West|     Hillsborough|          NJ|      8844|(123)436-6354|2018-04-18T16:51:...|\n",
      "|         12|Example Bank|          Mill Road|   MadisonHeights|          MI|     48071|(123)486-7175|2018-04-18T16:51:...|\n",
      "|         14|Example Bank|  Washington Street|           Oviedo|          FL|     32765|(123)493-8460|2018-04-18T16:51:...|\n",
      "|         15|Example Bank|    Chestnut Street|    Mechanicsburg|          PA|     17050|(123)446-2043|2018-04-18T16:51:...|\n",
      "|         16|Example Bank|       Monroe Drive|        Plainview|          NY|     11803|(123)485-7525|2018-04-18T16:51:...|\n",
      "|         17|Example Bank|    Railroad Street|          Paducah|          KY|     42001|(123)454-6360|2018-04-18T16:51:...|\n",
      "|         18|Example Bank|Church Street South|     Harleysville|          PA|     19438|(123)482-4455|2018-04-18T16:51:...|\n",
      "|         19|Example Bank|        King Street|     SilverSpring|          MD|     20901|(123)448-4380|2018-04-18T16:51:...|\n",
      "|         20|Example Bank|   Canterbury Drive|       Burnsville|          MN|     55337|(123)484-0138|2018-04-18T16:51:...|\n",
      "|         21|Example Bank|         2nd Avenue|           Tacoma|          WA|     98444|(123)436-2433|2018-04-18T16:51:...|\n",
      "|         22|Example Bank| Front Street South|         Carlisle|          PA|     17013|(123)492-2492|2018-04-18T16:51:...|\n",
      "+-----------+------------+-------------------+-----------------+------------+----------+-------------+--------------------+\n",
      "only showing top 20 rows\n",
      "\n"
     ]
    }
   ],
   "source": [
    "branch_df.show()"
   ]
  },
  {
   "cell_type": "code",
   "execution_count": 17,
   "id": "bd77cbb7",
   "metadata": {},
   "outputs": [],
   "source": [
    "df_branch = branch_df.withColumn('LAST_UPDATED', F.to_timestamp('LAST_UPDATED'))"
   ]
  },
  {
   "cell_type": "code",
   "execution_count": 18,
   "id": "fc39fe3b",
   "metadata": {},
   "outputs": [
    {
     "name": "stdout",
     "output_type": "stream",
     "text": [
      "root\n",
      " |-- BRANCH_CODE: integer (nullable = true)\n",
      " |-- BRANCH_NAME: string (nullable = true)\n",
      " |-- BRANCH_STREET: string (nullable = true)\n",
      " |-- BRANCH_CITY: string (nullable = true)\n",
      " |-- BRANCH_STATE: string (nullable = true)\n",
      " |-- BRANCH_ZIP: integer (nullable = false)\n",
      " |-- BRANCH_PHONE: string (nullable = true)\n",
      " |-- LAST_UPDATED: timestamp (nullable = true)\n",
      "\n"
     ]
    }
   ],
   "source": [
    "df_branch.printSchema()"
   ]
  },
  {
   "cell_type": "code",
   "execution_count": 19,
   "id": "00249b6c",
   "metadata": {},
   "outputs": [
    {
     "name": "stdout",
     "output_type": "stream",
     "text": [
      "+-----------+------------+-------------------+-----------------+------------+----------+-------------+-------------------+\n",
      "|BRANCH_CODE| BRANCH_NAME|      BRANCH_STREET|      BRANCH_CITY|BRANCH_STATE|BRANCH_ZIP| BRANCH_PHONE|       LAST_UPDATED|\n",
      "+-----------+------------+-------------------+-----------------+------------+----------+-------------+-------------------+\n",
      "|          1|Example Bank|       Bridle Court|        Lakeville|          MN|     55044|(123)456-5276|2018-04-18 15:51:47|\n",
      "|          2|Example Bank|  Washington Street|          Huntley|          IL|     60142|(123)461-8993|2018-04-18 15:51:47|\n",
      "|          3|Example Bank|      Warren Street|SouthRichmondHill|          NY|     11419|(123)498-5926|2018-04-18 15:51:47|\n",
      "|          4|Example Bank|   Cleveland Street|       Middleburg|          FL|     32068|(123)466-3064|2018-04-18 15:51:47|\n",
      "|          5|Example Bank|        14th Street|    KingOfPrussia|          PA|     19406|(123)484-9701|2018-04-18 15:51:47|\n",
      "|          7|Example Bank|   Jefferson Street|         Paterson|          NJ|      7501|(123)414-4890|2018-04-18 15:51:47|\n",
      "|          8|Example Bank|           B Street|        Pittsford|          NY|     14534|(123)467-8272|2018-04-18 15:51:47|\n",
      "|          9|Example Bank|    Jefferson Court|     Wethersfield|          CT|      6109|(123)467-5219|2018-04-18 15:51:47|\n",
      "|         10|Example Bank|     Cambridge Road|     NorthOlmsted|          OH|     44070|(123)414-5047|2018-04-18 15:51:47|\n",
      "|         11|Example Bank|    3rd Street West|     Hillsborough|          NJ|      8844|(123)436-6354|2018-04-18 15:51:47|\n",
      "|         12|Example Bank|          Mill Road|   MadisonHeights|          MI|     48071|(123)486-7175|2018-04-18 15:51:47|\n",
      "|         14|Example Bank|  Washington Street|           Oviedo|          FL|     32765|(123)493-8460|2018-04-18 15:51:47|\n",
      "|         15|Example Bank|    Chestnut Street|    Mechanicsburg|          PA|     17050|(123)446-2043|2018-04-18 15:51:47|\n",
      "|         16|Example Bank|       Monroe Drive|        Plainview|          NY|     11803|(123)485-7525|2018-04-18 15:51:47|\n",
      "|         17|Example Bank|    Railroad Street|          Paducah|          KY|     42001|(123)454-6360|2018-04-18 15:51:47|\n",
      "|         18|Example Bank|Church Street South|     Harleysville|          PA|     19438|(123)482-4455|2018-04-18 15:51:47|\n",
      "|         19|Example Bank|        King Street|     SilverSpring|          MD|     20901|(123)448-4380|2018-04-18 15:51:47|\n",
      "|         20|Example Bank|   Canterbury Drive|       Burnsville|          MN|     55337|(123)484-0138|2018-04-18 15:51:47|\n",
      "|         21|Example Bank|         2nd Avenue|           Tacoma|          WA|     98444|(123)436-2433|2018-04-18 15:51:47|\n",
      "|         22|Example Bank| Front Street South|         Carlisle|          PA|     17013|(123)492-2492|2018-04-18 15:51:47|\n",
      "+-----------+------------+-------------------+-----------------+------------+----------+-------------+-------------------+\n",
      "only showing top 20 rows\n",
      "\n"
     ]
    }
   ],
   "source": [
    "df_branch.show()"
   ]
  },
  {
   "cell_type": "code",
   "execution_count": null,
   "id": "1e74a6ad",
   "metadata": {},
   "outputs": [],
   "source": []
  },
  {
   "cell_type": "code",
   "execution_count": 20,
   "id": "2278e220",
   "metadata": {},
   "outputs": [
    {
     "name": "stdout",
     "output_type": "stream",
     "text": [
      "root\n",
      " |-- BRANCH_CODE: integer (nullable = true)\n",
      " |-- BRANCH_NAME: string (nullable = true)\n",
      " |-- BRANCH_STREET: string (nullable = true)\n",
      " |-- BRANCH_CITY: string (nullable = true)\n",
      " |-- BRANCH_STATE: string (nullable = true)\n",
      " |-- BRANCH_ZIP: integer (nullable = false)\n",
      " |-- BRANCH_PHONE: string (nullable = true)\n",
      " |-- LAST_UPDATED: timestamp (nullable = true)\n",
      "\n"
     ]
    }
   ],
   "source": [
    "df_branch.printSchema()"
   ]
  },
  {
   "cell_type": "code",
   "execution_count": 21,
   "id": "0c2bf299",
   "metadata": {},
   "outputs": [
    {
     "name": "stdout",
     "output_type": "stream",
     "text": [
      "+-----------+------------+-------------------+-----------------+------------+----------+-------------+-------------------+\n",
      "|BRANCH_CODE| BRANCH_NAME|      BRANCH_STREET|      BRANCH_CITY|BRANCH_STATE|BRANCH_ZIP| BRANCH_PHONE|       LAST_UPDATED|\n",
      "+-----------+------------+-------------------+-----------------+------------+----------+-------------+-------------------+\n",
      "|          1|Example Bank|       Bridle Court|        Lakeville|          MN|     55044|(123)456-5276|2018-04-18 15:51:47|\n",
      "|          2|Example Bank|  Washington Street|          Huntley|          IL|     60142|(123)461-8993|2018-04-18 15:51:47|\n",
      "|          3|Example Bank|      Warren Street|SouthRichmondHill|          NY|     11419|(123)498-5926|2018-04-18 15:51:47|\n",
      "|          4|Example Bank|   Cleveland Street|       Middleburg|          FL|     32068|(123)466-3064|2018-04-18 15:51:47|\n",
      "|          5|Example Bank|        14th Street|    KingOfPrussia|          PA|     19406|(123)484-9701|2018-04-18 15:51:47|\n",
      "|          7|Example Bank|   Jefferson Street|         Paterson|          NJ|      7501|(123)414-4890|2018-04-18 15:51:47|\n",
      "|          8|Example Bank|           B Street|        Pittsford|          NY|     14534|(123)467-8272|2018-04-18 15:51:47|\n",
      "|          9|Example Bank|    Jefferson Court|     Wethersfield|          CT|      6109|(123)467-5219|2018-04-18 15:51:47|\n",
      "|         10|Example Bank|     Cambridge Road|     NorthOlmsted|          OH|     44070|(123)414-5047|2018-04-18 15:51:47|\n",
      "|         11|Example Bank|    3rd Street West|     Hillsborough|          NJ|      8844|(123)436-6354|2018-04-18 15:51:47|\n",
      "|         12|Example Bank|          Mill Road|   MadisonHeights|          MI|     48071|(123)486-7175|2018-04-18 15:51:47|\n",
      "|         14|Example Bank|  Washington Street|           Oviedo|          FL|     32765|(123)493-8460|2018-04-18 15:51:47|\n",
      "|         15|Example Bank|    Chestnut Street|    Mechanicsburg|          PA|     17050|(123)446-2043|2018-04-18 15:51:47|\n",
      "|         16|Example Bank|       Monroe Drive|        Plainview|          NY|     11803|(123)485-7525|2018-04-18 15:51:47|\n",
      "|         17|Example Bank|    Railroad Street|          Paducah|          KY|     42001|(123)454-6360|2018-04-18 15:51:47|\n",
      "|         18|Example Bank|Church Street South|     Harleysville|          PA|     19438|(123)482-4455|2018-04-18 15:51:47|\n",
      "|         19|Example Bank|        King Street|     SilverSpring|          MD|     20901|(123)448-4380|2018-04-18 15:51:47|\n",
      "|         20|Example Bank|   Canterbury Drive|       Burnsville|          MN|     55337|(123)484-0138|2018-04-18 15:51:47|\n",
      "|         21|Example Bank|         2nd Avenue|           Tacoma|          WA|     98444|(123)436-2433|2018-04-18 15:51:47|\n",
      "|         22|Example Bank| Front Street South|         Carlisle|          PA|     17013|(123)492-2492|2018-04-18 15:51:47|\n",
      "+-----------+------------+-------------------+-----------------+------------+----------+-------------+-------------------+\n",
      "only showing top 20 rows\n",
      "\n"
     ]
    }
   ],
   "source": [
    "df_branch.show()"
   ]
  },
  {
   "cell_type": "code",
   "execution_count": 22,
   "id": "525c6cf2",
   "metadata": {},
   "outputs": [],
   "source": [
    "\n",
    "df_branch.write.format(\"jdbc\") \\\n",
    ".mode(\"append\") \\\n",
    ".option(\"url\", \"jdbc:mysql://localhost:3306/creditcard_capstone\") \\\n",
    ".option(\"dbtable\", \"creditcard_capstone.cdw_sapp_branch\") \\\n",
    ".option(\"user\", user) \\\n",
    ".option(\"password\", password) \\\n",
    ".save()\n"
   ]
  },
  {
   "cell_type": "code",
   "execution_count": 23,
   "id": "536ff7e8",
   "metadata": {},
   "outputs": [],
   "source": [
    "spark.stop()"
   ]
  },
  {
   "cell_type": "code",
   "execution_count": 24,
   "id": "ee2449f3",
   "metadata": {},
   "outputs": [],
   "source": [
    "# ALTER TABLE `creditcard_capstone`.`cdw_sapp_branch` \n",
    "# CHANGE COLUMN `BRANCH_NAME` `BRANCH_NAME` VARCHAR(45) NULL DEFAULT NULL ,\n",
    "# CHANGE COLUMN `BRANCH_STREET` `BRANCH_STREET` VARCHAR(45) NULL DEFAULT NULL ,\n",
    "# CHANGE COLUMN `BRANCH_CITY` `BRANCH_CITY` VARCHAR(45) NULL DEFAULT NULL ,\n",
    "# CHANGE COLUMN `BRANCH_STATE` `BRANCH_STATE` VARCHAR(45) NULL DEFAULT NULL ,\n",
    "# CHANGE COLUMN `BRANCH_PHONE` `BRANCH_PHONE` VARCHAR(45) NULL DEFAULT NULL ;\n"
   ]
  },
  {
   "cell_type": "code",
   "execution_count": null,
   "id": "933c242f",
   "metadata": {},
   "outputs": [],
   "source": []
  },
  {
   "cell_type": "code",
   "execution_count": null,
   "id": "c713a9eb",
   "metadata": {},
   "outputs": [],
   "source": []
  },
  {
   "cell_type": "code",
   "execution_count": null,
   "id": "201e2f5d",
   "metadata": {},
   "outputs": [],
   "source": []
  }
 ],
 "metadata": {
  "kernelspec": {
   "display_name": "Python 3 (ipykernel)",
   "language": "python",
   "name": "python3"
  },
  "language_info": {
   "codemirror_mode": {
    "name": "ipython",
    "version": 3
   },
   "file_extension": ".py",
   "mimetype": "text/x-python",
   "name": "python",
   "nbconvert_exporter": "python",
   "pygments_lexer": "ipython3",
   "version": "3.9.12"
  },
  "vscode": {
   "interpreter": {
    "hash": "e9ebf9ef809bdc88143f43dd64c0ac139993320cba1081b17292f6ea1461afe7"
   }
  }
 },
 "nbformat": 4,
 "nbformat_minor": 5
}
